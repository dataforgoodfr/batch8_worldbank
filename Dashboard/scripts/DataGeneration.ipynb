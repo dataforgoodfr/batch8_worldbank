{
 "cells": [
  {
   "cell_type": "markdown",
   "metadata": {},
   "source": [
    "# input-magnitude.csv"
   ]
  },
  {
   "cell_type": "markdown",
   "metadata": {},
   "source": [
    "### Creating proper input for missing data sets"
   ]
  },
  {
   "cell_type": "code",
   "execution_count": 1,
   "metadata": {},
   "outputs": [],
   "source": [
    "# a = [1900, 1910, 1920, 1930, 1940, 1950, 1960, 1970, 1980, 1990, 2000, 2010,2020,2030,2040,2050,2060,2070,2080,2090]\n",
    "# b = ['Australia and New Zealand','Caribbean','Central America','Central Asia','Eastern Africa','Eastern Asia','Eastern Europe','Melanesia','Micronesia','Middle Africa','Northern Africa','Northern America','Northern Europe','Polynesia','South America','South-Eastern Asia','Southern Africa','Southern Asia','Southern Europe','Western Africa','Western Asia','Western Europe']\n",
    "# b = ['Australia and New Zealand','Caribbean','Central America','Central Asia','Eastern Africa','Eastern Asia','Eastern Europe','Melanesia','Micronesia','Middle Africa','Northern Africa','Northern America','Northern Europe','Polynesia','South America','South-Eastern Asia','Southern Africa','Southern Asia','Southern Europe','Western Africa','Western Asia','Western Europe']\n",
    "# c = ['Droughts']\n",
    "# d = [2.6,4.5,6.0,8.5]\n",
    "# e = [2020,2030,2040,2050,2060,2070,2080,2090]\n",
    "# f = ['Floods', 'Droughts']"
   ]
  },
  {
   "cell_type": "markdown",
   "metadata": {},
   "source": [
    "### Creating rows for missing data sets"
   ]
  },
  {
   "cell_type": "code",
   "execution_count": 2,
   "metadata": {},
   "outputs": [],
   "source": [
    "import pandas as pd\n",
    "\n",
    "# from itertools import product\n",
    "# df1 = pd.DataFrame(list(product(a,b,c,d)), columns=['Decade','UN_Geosheme_Subregion','Disaster_Type','RCP'])\n",
    "# df2 = pd.DataFrame(list(product(e,b,f,d)), columns=['Decade','UN_Geosheme_Subregion','Disaster_Type','RCP'])\n",
    "# df = df1.append(df2)\n",
    "# df = pd.DataFrame(list(product(e,b,f,d)), columns=['Decade','UN_Geosheme_Subregion','Disaster_Type','RCP'])\n",
    "# df.loc[df.Decade < 2020, 'RCP'] = None\n",
    "# df = df.drop_duplicates()"
   ]
  },
  {
   "cell_type": "markdown",
   "metadata": {},
   "source": [
    "### Filling missing data sets rows with dummy values"
   ]
  },
  {
   "cell_type": "code",
   "execution_count": 3,
   "metadata": {},
   "outputs": [],
   "source": [
    "# import numpy as np\n",
    "# df['Financial_Impact'] = np.random.randint(0,100000000, df.shape[0])\n",
    "# df['Human_Impact'] = np.random.randint(0,1000000, df.shape[0])\n",
    "# df['DO'] = np.random.randint(0,100, df.shape[0])"
   ]
  },
  {
   "cell_type": "markdown",
   "metadata": {},
   "source": [
    "### Historical Floods data set "
   ]
  },
  {
   "cell_type": "code",
   "execution_count": 4,
   "metadata": {},
   "outputs": [],
   "source": [
    "import pandas as pd\n",
    "\n",
    "past_floods = pd.read_csv(\"../data/team_floods_output_past.csv\")\n",
    "past_floods[\"Disaster_Type\"] = past_floods[\"Disaster_Type\"].replace([\"Flood\"], \"Floods\")\n",
    "past_floods[[\"Financial_Impact\", \"Rain\", \"Human_Impact\"]] = past_floods[\n",
    "    [\"Financial_Impact\", \"Rain\", \"Human_Impact\"]\n",
    "].astype(\"int64\")\n",
    "past_floods = past_floods.drop([\"RCP\"], axis=1)\n",
    "pastfloods = past_floods.drop([\"Rain\"], axis=1)\n",
    "pastfloods = pastfloods[pastfloods.Decade != 2020]\n",
    "# df = df.append(pastfloods)\n",
    "df = pastfloods"
   ]
  },
  {
   "cell_type": "markdown",
   "metadata": {},
   "source": [
    "### Appending historical Storms data set "
   ]
  },
  {
   "cell_type": "code",
   "execution_count": 5,
   "metadata": {},
   "outputs": [],
   "source": [
    "past_storms = pd.read_csv(\"../data/team_storms_output_past.csv\", index_col=0)\n",
    "paststorms = past_storms[past_storms.Decade != 2020]\n",
    "paststorms = paststorms.drop([\"°C\"], axis=1)\n",
    "df = df.append(paststorms)"
   ]
  },
  {
   "cell_type": "markdown",
   "metadata": {},
   "source": [
    "### Appending historical Droughts data set "
   ]
  },
  {
   "cell_type": "code",
   "execution_count": 6,
   "metadata": {},
   "outputs": [],
   "source": [
    "pastdroughts = pd.read_csv(\"../data/team_droughts_output_past.csv\", index_col=0)\n",
    "pastdroughts = pastdroughts.drop([\"°C\"], axis=1)\n",
    "pastdroughts[\"Disaster_Type\"] = pastdroughts[\"Disaster_Type\"].replace(\n",
    "    [\"Drought\"], \"Droughts\"\n",
    ")\n",
    "df = df.append(pastdroughts)"
   ]
  },
  {
   "cell_type": "markdown",
   "metadata": {},
   "source": [
    "### Appending future Storms data set "
   ]
  },
  {
   "cell_type": "code",
   "execution_count": 7,
   "metadata": {},
   "outputs": [],
   "source": [
    "future_storms = pd.read_csv(\"../data/team_storms_output_future.csv\", index_col=0)\n",
    "futurestorms = future_storms.drop([\"°C\"], axis=1)\n",
    "df = df.append(futurestorms)"
   ]
  },
  {
   "cell_type": "markdown",
   "metadata": {},
   "source": [
    "### Appending future Floods data set "
   ]
  },
  {
   "cell_type": "code",
   "execution_count": 8,
   "metadata": {},
   "outputs": [],
   "source": [
    "future_floods = pd.read_csv(\"../data/team_floods_output_future.csv\")\n",
    "future_floods[\"Disaster_Type\"] = future_floods[\"Disaster_Type\"].replace(\n",
    "    [\"Flood\"], \"Floods\"\n",
    ")\n",
    "future_floods[[\"Financial_Impact\", \"Rain\", \"Human_Impact\"]] = future_floods[\n",
    "    [\"Financial_Impact\", \"Rain\", \"Human_Impact\"]\n",
    "].astype(\"int64\")\n",
    "futurefloods = future_floods.drop([\"Rain\"], axis=1)\n",
    "df = df.append(futurefloods)"
   ]
  },
  {
   "cell_type": "markdown",
   "metadata": {},
   "source": [
    "### Appending future Droughts data set"
   ]
  },
  {
   "cell_type": "code",
   "execution_count": 9,
   "metadata": {},
   "outputs": [],
   "source": [
    "future_droughts = pd.read_csv(\"../data/team_droughts_output_future.csv\", index_col=0)\n",
    "future_droughts[\"Disaster_Type\"] = future_droughts[\"Disaster_Type\"].replace(\n",
    "    [\"Drought\"], \"Droughts\"\n",
    ")\n",
    "future_droughts = future_droughts.drop([\"°C\"], axis=1)\n",
    "df = df.append(future_droughts)"
   ]
  },
  {
   "cell_type": "markdown",
   "metadata": {},
   "source": [
    "### Generation of input-magnitude.csv"
   ]
  },
  {
   "cell_type": "code",
   "execution_count": 10,
   "metadata": {},
   "outputs": [
    {
     "data": {
      "text/html": [
       "<div>\n",
       "<style scoped>\n",
       "    .dataframe tbody tr th:only-of-type {\n",
       "        vertical-align: middle;\n",
       "    }\n",
       "\n",
       "    .dataframe tbody tr th {\n",
       "        vertical-align: top;\n",
       "    }\n",
       "\n",
       "    .dataframe thead th {\n",
       "        text-align: right;\n",
       "    }\n",
       "</style>\n",
       "<table border=\"1\" class=\"dataframe\">\n",
       "  <thead>\n",
       "    <tr style=\"text-align: right;\">\n",
       "      <th></th>\n",
       "      <th>Decade</th>\n",
       "      <th>UN_Geosheme_Subregion</th>\n",
       "      <th>Disaster_Type</th>\n",
       "      <th>RCP</th>\n",
       "      <th>Financial_Impact</th>\n",
       "      <th>Human_Impact</th>\n",
       "      <th>DO</th>\n",
       "    </tr>\n",
       "  </thead>\n",
       "  <tbody>\n",
       "    <tr>\n",
       "      <th>0</th>\n",
       "      <td>1900</td>\n",
       "      <td>Caribbean</td>\n",
       "      <td>Floods</td>\n",
       "      <td>NaN</td>\n",
       "      <td>0</td>\n",
       "      <td>300</td>\n",
       "      <td>1</td>\n",
       "    </tr>\n",
       "    <tr>\n",
       "      <th>1</th>\n",
       "      <td>1900</td>\n",
       "      <td>Caribbean</td>\n",
       "      <td>Storms</td>\n",
       "      <td>NaN</td>\n",
       "      <td>0</td>\n",
       "      <td>0</td>\n",
       "      <td>2</td>\n",
       "    </tr>\n",
       "    <tr>\n",
       "      <th>2</th>\n",
       "      <td>1900</td>\n",
       "      <td>Eastern Asia</td>\n",
       "      <td>Storms</td>\n",
       "      <td>NaN</td>\n",
       "      <td>20000000</td>\n",
       "      <td>0</td>\n",
       "      <td>1</td>\n",
       "    </tr>\n",
       "    <tr>\n",
       "      <th>3</th>\n",
       "      <td>1900</td>\n",
       "      <td>Northern America</td>\n",
       "      <td>Floods</td>\n",
       "      <td>NaN</td>\n",
       "      <td>0</td>\n",
       "      <td>72</td>\n",
       "      <td>1</td>\n",
       "    </tr>\n",
       "    <tr>\n",
       "      <th>4</th>\n",
       "      <td>1900</td>\n",
       "      <td>Northern America</td>\n",
       "      <td>Storms</td>\n",
       "      <td>NaN</td>\n",
       "      <td>30000000</td>\n",
       "      <td>0</td>\n",
       "      <td>6</td>\n",
       "    </tr>\n",
       "    <tr>\n",
       "      <th>...</th>\n",
       "      <td>...</td>\n",
       "      <td>...</td>\n",
       "      <td>...</td>\n",
       "      <td>...</td>\n",
       "      <td>...</td>\n",
       "      <td>...</td>\n",
       "      <td>...</td>\n",
       "    </tr>\n",
       "    <tr>\n",
       "      <th>2249</th>\n",
       "      <td>2090</td>\n",
       "      <td>Western Europe</td>\n",
       "      <td>Floods</td>\n",
       "      <td>8.5</td>\n",
       "      <td>1569209175</td>\n",
       "      <td>1272675</td>\n",
       "      <td>9</td>\n",
       "    </tr>\n",
       "    <tr>\n",
       "      <th>2250</th>\n",
       "      <td>2090</td>\n",
       "      <td>Western Europe</td>\n",
       "      <td>Storms</td>\n",
       "      <td>2.6</td>\n",
       "      <td>36900000</td>\n",
       "      <td>11358</td>\n",
       "      <td>18</td>\n",
       "    </tr>\n",
       "    <tr>\n",
       "      <th>2251</th>\n",
       "      <td>2090</td>\n",
       "      <td>Western Europe</td>\n",
       "      <td>Storms</td>\n",
       "      <td>4.5</td>\n",
       "      <td>41000000</td>\n",
       "      <td>12620</td>\n",
       "      <td>20</td>\n",
       "    </tr>\n",
       "    <tr>\n",
       "      <th>2252</th>\n",
       "      <td>2090</td>\n",
       "      <td>Western Europe</td>\n",
       "      <td>Storms</td>\n",
       "      <td>6.0</td>\n",
       "      <td>32800000</td>\n",
       "      <td>10096</td>\n",
       "      <td>16</td>\n",
       "    </tr>\n",
       "    <tr>\n",
       "      <th>2253</th>\n",
       "      <td>2090</td>\n",
       "      <td>Western Europe</td>\n",
       "      <td>Storms</td>\n",
       "      <td>8.5</td>\n",
       "      <td>57400000</td>\n",
       "      <td>17668</td>\n",
       "      <td>28</td>\n",
       "    </tr>\n",
       "  </tbody>\n",
       "</table>\n",
       "<p>2254 rows × 7 columns</p>\n",
       "</div>"
      ],
      "text/plain": [
       "      Decade UN_Geosheme_Subregion Disaster_Type  RCP  Financial_Impact  \\\n",
       "0       1900             Caribbean        Floods  NaN                 0   \n",
       "1       1900             Caribbean        Storms  NaN                 0   \n",
       "2       1900          Eastern Asia        Storms  NaN          20000000   \n",
       "3       1900      Northern America        Floods  NaN                 0   \n",
       "4       1900      Northern America        Storms  NaN          30000000   \n",
       "...      ...                   ...           ...  ...               ...   \n",
       "2249    2090        Western Europe        Floods  8.5        1569209175   \n",
       "2250    2090        Western Europe        Storms  2.6          36900000   \n",
       "2251    2090        Western Europe        Storms  4.5          41000000   \n",
       "2252    2090        Western Europe        Storms  6.0          32800000   \n",
       "2253    2090        Western Europe        Storms  8.5          57400000   \n",
       "\n",
       "      Human_Impact  DO  \n",
       "0              300   1  \n",
       "1                0   2  \n",
       "2                0   1  \n",
       "3               72   1  \n",
       "4                0   6  \n",
       "...            ...  ..  \n",
       "2249       1272675   9  \n",
       "2250         11358  18  \n",
       "2251         12620  20  \n",
       "2252         10096  16  \n",
       "2253         17668  28  \n",
       "\n",
       "[2254 rows x 7 columns]"
      ]
     },
     "execution_count": 10,
     "metadata": {},
     "output_type": "execute_result"
    }
   ],
   "source": [
    "df = df[\n",
    "    [\n",
    "        \"Decade\",\n",
    "        \"UN_Geosheme_Subregion\",\n",
    "        \"Disaster_Type\",\n",
    "        \"RCP\",\n",
    "        \"Financial_Impact\",\n",
    "        \"Human_Impact\",\n",
    "        \"DO\",\n",
    "    ]\n",
    "]\n",
    "df = df.sort_values(\n",
    "    by=[\"Decade\", \"UN_Geosheme_Subregion\", \"Disaster_Type\"]\n",
    ").reset_index(drop=True)\n",
    "df.to_csv(\"../data/input-magnitude.csv\", index=False)\n",
    "df"
   ]
  },
  {
   "cell_type": "markdown",
   "metadata": {},
   "source": [
    "# input-extra.csv"
   ]
  },
  {
   "cell_type": "markdown",
   "metadata": {},
   "source": [
    "### Temperatures data set preparation "
   ]
  },
  {
   "cell_type": "code",
   "execution_count": 11,
   "metadata": {},
   "outputs": [],
   "source": [
    "extrac = past_storms.append(future_storms)\n",
    "extrac = extrac.drop(\n",
    "    [\"DO\", \"Human_Impact\", \"Financial_Impact\", \"Disaster_Type\"], axis=1\n",
    ")"
   ]
  },
  {
   "cell_type": "markdown",
   "metadata": {},
   "source": [
    "### Rainfalls data set preparation "
   ]
  },
  {
   "cell_type": "code",
   "execution_count": 12,
   "metadata": {},
   "outputs": [],
   "source": [
    "# extrar = past_floods.append(future_floods)\n",
    "extrar = past_floods.drop(\n",
    "    [\"DO\", \"Human_Impact\", \"Financial_Impact\", \"Disaster_Type\"], axis=1\n",
    ")"
   ]
  },
  {
   "cell_type": "markdown",
   "metadata": {},
   "source": [
    "### Merge of rainfalls and temperatures"
   ]
  },
  {
   "cell_type": "code",
   "execution_count": 13,
   "metadata": {},
   "outputs": [],
   "source": [
    "extra = extrac.merge(extrar, on=[\"Decade\", \"UN_Geosheme_Subregion\"], how=\"outer\")"
   ]
  },
  {
   "cell_type": "markdown",
   "metadata": {},
   "source": [
    "### Generation of input-magnitude.csv"
   ]
  },
  {
   "cell_type": "code",
   "execution_count": 14,
   "metadata": {},
   "outputs": [
    {
     "data": {
      "text/html": [
       "<div>\n",
       "<style scoped>\n",
       "    .dataframe tbody tr th:only-of-type {\n",
       "        vertical-align: middle;\n",
       "    }\n",
       "\n",
       "    .dataframe tbody tr th {\n",
       "        vertical-align: top;\n",
       "    }\n",
       "\n",
       "    .dataframe thead th {\n",
       "        text-align: right;\n",
       "    }\n",
       "</style>\n",
       "<table border=\"1\" class=\"dataframe\">\n",
       "  <thead>\n",
       "    <tr style=\"text-align: right;\">\n",
       "      <th></th>\n",
       "      <th>Decade</th>\n",
       "      <th>UN_Geosheme_Subregion</th>\n",
       "      <th>RCP</th>\n",
       "      <th>°C</th>\n",
       "      <th>Rain</th>\n",
       "    </tr>\n",
       "  </thead>\n",
       "  <tbody>\n",
       "    <tr>\n",
       "      <th>0</th>\n",
       "      <td>1900</td>\n",
       "      <td>Caribbean</td>\n",
       "      <td>NaN</td>\n",
       "      <td>23.0</td>\n",
       "      <td>0.0</td>\n",
       "    </tr>\n",
       "    <tr>\n",
       "      <th>1</th>\n",
       "      <td>1900</td>\n",
       "      <td>Eastern Asia</td>\n",
       "      <td>NaN</td>\n",
       "      <td>22.0</td>\n",
       "      <td>NaN</td>\n",
       "    </tr>\n",
       "    <tr>\n",
       "      <th>2</th>\n",
       "      <td>1900</td>\n",
       "      <td>Northern America</td>\n",
       "      <td>NaN</td>\n",
       "      <td>6.0</td>\n",
       "      <td>0.0</td>\n",
       "    </tr>\n",
       "    <tr>\n",
       "      <th>3</th>\n",
       "      <td>1900</td>\n",
       "      <td>South-Eastern Asia</td>\n",
       "      <td>NaN</td>\n",
       "      <td>23.0</td>\n",
       "      <td>NaN</td>\n",
       "    </tr>\n",
       "    <tr>\n",
       "      <th>4</th>\n",
       "      <td>1900</td>\n",
       "      <td>Southern Asia</td>\n",
       "      <td>NaN</td>\n",
       "      <td>24.0</td>\n",
       "      <td>NaN</td>\n",
       "    </tr>\n",
       "    <tr>\n",
       "      <th>...</th>\n",
       "      <td>...</td>\n",
       "      <td>...</td>\n",
       "      <td>...</td>\n",
       "      <td>...</td>\n",
       "      <td>...</td>\n",
       "    </tr>\n",
       "    <tr>\n",
       "      <th>904</th>\n",
       "      <td>2090</td>\n",
       "      <td>Western Asia</td>\n",
       "      <td>8.5</td>\n",
       "      <td>24.0</td>\n",
       "      <td>NaN</td>\n",
       "    </tr>\n",
       "    <tr>\n",
       "      <th>905</th>\n",
       "      <td>2090</td>\n",
       "      <td>Western Europe</td>\n",
       "      <td>2.6</td>\n",
       "      <td>10.0</td>\n",
       "      <td>NaN</td>\n",
       "    </tr>\n",
       "    <tr>\n",
       "      <th>906</th>\n",
       "      <td>2090</td>\n",
       "      <td>Western Europe</td>\n",
       "      <td>4.5</td>\n",
       "      <td>11.0</td>\n",
       "      <td>NaN</td>\n",
       "    </tr>\n",
       "    <tr>\n",
       "      <th>907</th>\n",
       "      <td>2090</td>\n",
       "      <td>Western Europe</td>\n",
       "      <td>6.0</td>\n",
       "      <td>12.0</td>\n",
       "      <td>NaN</td>\n",
       "    </tr>\n",
       "    <tr>\n",
       "      <th>908</th>\n",
       "      <td>2090</td>\n",
       "      <td>Western Europe</td>\n",
       "      <td>8.5</td>\n",
       "      <td>13.0</td>\n",
       "      <td>NaN</td>\n",
       "    </tr>\n",
       "  </tbody>\n",
       "</table>\n",
       "<p>909 rows × 5 columns</p>\n",
       "</div>"
      ],
      "text/plain": [
       "     Decade UN_Geosheme_Subregion  RCP    °C  Rain\n",
       "0      1900             Caribbean  NaN  23.0   0.0\n",
       "1      1900          Eastern Asia  NaN  22.0   NaN\n",
       "2      1900      Northern America  NaN   6.0   0.0\n",
       "3      1900    South-Eastern Asia  NaN  23.0   NaN\n",
       "4      1900         Southern Asia  NaN  24.0   NaN\n",
       "..      ...                   ...  ...   ...   ...\n",
       "904    2090          Western Asia  8.5  24.0   NaN\n",
       "905    2090        Western Europe  2.6  10.0   NaN\n",
       "906    2090        Western Europe  4.5  11.0   NaN\n",
       "907    2090        Western Europe  6.0  12.0   NaN\n",
       "908    2090        Western Europe  8.5  13.0   NaN\n",
       "\n",
       "[909 rows x 5 columns]"
      ]
     },
     "execution_count": 14,
     "metadata": {},
     "output_type": "execute_result"
    }
   ],
   "source": [
    "extra = extra[[\"Decade\", \"UN_Geosheme_Subregion\", \"RCP\", \"°C\", \"Rain\"]]\n",
    "extra = extra.sort_values(by=[\"Decade\", \"UN_Geosheme_Subregion\"]).reset_index(drop=True)\n",
    "extra.to_csv(\"../data/input-extra.csv\", index=False)\n",
    "extra"
   ]
  }
 ],
 "metadata": {
  "kernelspec": {
   "display_name": "Python 3",
   "language": "python",
   "name": "python3"
  },
  "language_info": {
   "codemirror_mode": {
    "name": "ipython",
    "version": 3
   },
   "file_extension": ".py",
   "mimetype": "text/x-python",
   "name": "python",
   "nbconvert_exporter": "python",
   "pygments_lexer": "ipython3",
   "version": "3.7.7"
  }
 },
 "nbformat": 4,
 "nbformat_minor": 4
}
