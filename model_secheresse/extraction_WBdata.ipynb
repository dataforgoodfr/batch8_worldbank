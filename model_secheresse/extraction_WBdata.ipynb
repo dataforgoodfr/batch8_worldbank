{
 "cells": [
  {
   "cell_type": "code",
   "execution_count": 10,
   "metadata": {},
   "outputs": [],
   "source": [
    "# -*- coding: utf-8 -*-\n",
    "import requests\n",
    "import os, sys\n",
    "import pandas as pd\n",
    "import urllib.parse\n",
    "import logging\n",
    "import concurrent.futures\n",
    "from pathlib import Path"
   ]
  },
  {
   "cell_type": "code",
   "execution_count": 34,
   "metadata": {},
   "outputs": [],
   "source": [
    "\"\"\"\n",
    "Script to download dataset from https://climateknowledgeportal.worldbank.org/api/data/get-download-data\n",
    "\"\"\"\n",
    "# Path origin - downloaded dataset\n",
    "DATASET_FOLDER = \"~/dataset/\"\n",
    "\n",
    "# Paths destination\n",
    "DATASET_FOLDER_DEST = \"~/dataset_dest/\"\n",
    "PATH_temperature = os.path.join(DATASET_FOLDER_DEST, \"temperature/\")\n",
    "PATH_rainfall = os.path.join(DATASET_FOLDER_DEST, \"precipitation/\")\n",
    "\n",
    "\n",
    "nature_of_data = [\"projection\", \"historical\"]"
   ]
  },
  {
   "cell_type": "code",
   "execution_count": 37,
   "metadata": {},
   "outputs": [],
   "source": [
    "# Read countries list\n",
    "df = pd.read_csv(DATASET_FOLDER + \"worldbank_countries.csv\")\n",
    "countries_code = df.code.to_list()\n",
    "countries_name = df.name.to_list()"
   ]
  },
  {
   "cell_type": "code",
   "execution_count": 38,
   "metadata": {},
   "outputs": [
    {
     "data": {
      "text/html": [
       "<div>\n",
       "<style scoped>\n",
       "    .dataframe tbody tr th:only-of-type {\n",
       "        vertical-align: middle;\n",
       "    }\n",
       "\n",
       "    .dataframe tbody tr th {\n",
       "        vertical-align: top;\n",
       "    }\n",
       "\n",
       "    .dataframe thead th {\n",
       "        text-align: right;\n",
       "    }\n",
       "</style>\n",
       "<table border=\"1\" class=\"dataframe\">\n",
       "  <thead>\n",
       "    <tr style=\"text-align: right;\">\n",
       "      <th></th>\n",
       "      <th>name</th>\n",
       "      <th>code</th>\n",
       "    </tr>\n",
       "  </thead>\n",
       "  <tbody>\n",
       "    <tr>\n",
       "      <th>0</th>\n",
       "      <td>Belgium</td>\n",
       "      <td>BEL</td>\n",
       "    </tr>\n",
       "    <tr>\n",
       "      <th>1</th>\n",
       "      <td>China</td>\n",
       "      <td>CHN</td>\n",
       "    </tr>\n",
       "    <tr>\n",
       "      <th>2</th>\n",
       "      <td>Germany Fed Rep</td>\n",
       "      <td>DFR</td>\n",
       "    </tr>\n",
       "  </tbody>\n",
       "</table>\n",
       "</div>"
      ],
      "text/plain": [
       "              name code\n",
       "0          Belgium  BEL\n",
       "1            China  CHN\n",
       "2  Germany Fed Rep  DFR"
      ]
     },
     "execution_count": 38,
     "metadata": {},
     "output_type": "execute_result"
    }
   ],
   "source": [
    "df.head(3)"
   ]
  },
  {
   "cell_type": "markdown",
   "metadata": {},
   "source": [
    "#### Extraction of rainfall data"
   ]
  },
  {
   "cell_type": "code",
   "execution_count": 39,
   "metadata": {},
   "outputs": [],
   "source": [
    "variables = [\"pr\"]\n",
    "\n",
    "past_time_series = [\"1901-2016\"]\n",
    "futu_time_series = [\"2020_2039\", \"2040_2059\", \"2060_2079\", \"2080_2099\"]\n",
    "\n",
    "logger = logging.getLogger(\"download\")\n",
    "formatter = logging.Formatter(\"%(asctime)s -  %(name)-12s %(levelname)-8s %(message)s\")\n",
    "logger.setLevel(logging.DEBUG)\n",
    "fh = logging.FileHandler(\"download.log\")\n",
    "fh.setLevel(logging.DEBUG)\n",
    "fh.setFormatter(formatter)\n",
    "logger.addHandler(fh)\n",
    "logger.info(f\"Starting...\")"
   ]
  },
  {
   "cell_type": "code",
   "execution_count": 40,
   "metadata": {},
   "outputs": [],
   "source": [
    "def get_url(url, destination):\n",
    "    if Path(destination).is_file():\n",
    "        logger.info(f\"{destination} already exist ! No download.\")\n",
    "        return False\n",
    "    logger.debug(f\"{url} -> {destination}\")\n",
    "    # Retreive the content\n",
    "    try:\n",
    "        r = requests.get(url)\n",
    "        content = r.content\n",
    "        if r.status_code != 200:\n",
    "            logger.error(f\"ERROR HTTP : {r.status_code} for {url}\")\n",
    "            return False\n",
    "        if len(r.content) < 1_000:\n",
    "            logger.error(f\"ERROR HTTP content too small : {content} for {url}\")\n",
    "            return False\n",
    "\n",
    "        with open(destination, \"wb\") as f:\n",
    "            f.write(content)\n",
    "        return True\n",
    "    except:\n",
    "        logger.error(f\"Unexpected ERROR for {url}: {sys.exc_info()[0]}\")\n",
    "        return False"
   ]
  },
  {
   "cell_type": "code",
   "execution_count": 41,
   "metadata": {},
   "outputs": [
    {
     "data": {
      "text/plain": [
       "WindowsPath('C:/Users/Square 967/Documents/Jyda/DataForGood/data/precipitation')"
      ]
     },
     "execution_count": 41,
     "metadata": {},
     "output_type": "execute_result"
    }
   ],
   "source": [
    "Path(PATH_rainfall)"
   ]
  },
  {
   "cell_type": "code",
   "execution_count": 42,
   "metadata": {},
   "outputs": [
    {
     "data": {
      "text/plain": [
       "['1901-2016']"
      ]
     },
     "execution_count": 42,
     "metadata": {},
     "output_type": "execute_result"
    }
   ],
   "source": [
    "past_time_series"
   ]
  },
  {
   "cell_type": "code",
   "execution_count": 43,
   "metadata": {},
   "outputs": [],
   "source": [
    "nb_iter = 0\n",
    "# asyncloop = asyncio.get_event_loop()\n",
    "# tasks = []\n",
    "with concurrent.futures.ThreadPoolExecutor(max_workers=32) as executor:\n",
    "    futures = []\n",
    "    for country_code, country_name in zip(countries_code, countries_name):\n",
    "        for nature in nature_of_data:\n",
    "            time_series = (\n",
    "                past_time_series if nature == \"historical\" else futu_time_series\n",
    "            )\n",
    "            data_type = \"\" if nature == \"historical\" else \"/mavg\"\n",
    "            projection = \"\" if nature == \"historical\" else \"/rcp85\"\n",
    "            for period in time_series:\n",
    "                nb_iter += 1\n",
    "                # Build URL\n",
    "                url = (\n",
    "                    \"https://climateknowledgeportal.worldbank.org/api/data/get-download-data/\"\n",
    "                    + f\"{nature}{data_type}/pr{projection}/{period}/{country_code}/{urllib.parse.quote_plus(country_name)}\"\n",
    "                )\n",
    "                # build destination name\n",
    "                filename = \"_\".join([nature, period, country_code]) + \".csv\"\n",
    "                destination = os.path.join(PATH_rainfall, filename)\n",
    "                # tasks.append(asyncloop.create_task(get_url(url, destination)))\n",
    "                futures.append(\n",
    "                    executor.submit(get_url, url=url, destination=destination)\n",
    "                )\n",
    "    for future in concurrent.futures.as_completed(futures):\n",
    "        # print(future.result())\n",
    "        logger.debug(f\"Done {future.result()}\")\n",
    "# for task in tasks:\n",
    "#     await task\n",
    "\n",
    "logger.info(f\"Done after {nb_iter} iterations.\")\n",
    "# https://climateknowledgeportal.worldbank.org/api/data/get-download-data/projection/mavg/pr/rcp85/2060_2079/BDI/Burundi\n",
    "\n",
    "logger.debug(f\"Done {future.result()}\")"
   ]
  },
  {
   "cell_type": "code",
   "execution_count": 36,
   "metadata": {},
   "outputs": [
    {
     "data": {
      "text/plain": [
       "'C:/Users/Square 967/Documents/Jyda/DataForGood/data/'"
      ]
     },
     "execution_count": 36,
     "metadata": {},
     "output_type": "execute_result"
    }
   ],
   "source": [
    "DATASET_FOLDER_DEST"
   ]
  },
  {
   "cell_type": "markdown",
   "metadata": {},
   "source": [
    "#### Merge Rainfall files in CSV"
   ]
  },
  {
   "cell_type": "code",
   "execution_count": 44,
   "metadata": {},
   "outputs": [],
   "source": [
    "import os\n",
    "import glob\n",
    "\n",
    "os.chdir(DATASET_FOLDER_DEST + \"precipitation/\")\n",
    "\n",
    "extension = \"csv\"\n",
    "all_filenames = [i for i in glob.glob(\"*.{}\".format(extension))]\n",
    "\n",
    "# combine all files in the list\n",
    "combined_rain = pd.concat([pd.read_csv(f) for f in all_filenames])\n",
    "# export to csv\n",
    "combined_rain.to_csv(\"combined_rainfall.csv\", index=False, encoding=\"utf-8-sig\")"
   ]
  },
  {
   "cell_type": "code",
   "execution_count": 45,
   "metadata": {},
   "outputs": [
    {
     "data": {
      "text/plain": [
       "Index(['Rainfall - (MM)', ' Year', ' Statistics', ' Country', ' ISO3',\n",
       "       'Monthly Precipitation - (MM)', ' Model'],\n",
       "      dtype='object')"
      ]
     },
     "execution_count": 45,
     "metadata": {},
     "output_type": "execute_result"
    }
   ],
   "source": [
    "combined_rain.columns"
   ]
  },
  {
   "cell_type": "markdown",
   "metadata": {},
   "source": [
    "#### Extraction of temperature data"
   ]
  },
  {
   "cell_type": "code",
   "execution_count": 46,
   "metadata": {},
   "outputs": [],
   "source": [
    "variables = [\"tas\"]\n",
    "\n",
    "past_time_series = [\"1901-2016\"]\n",
    "futu_time_series = [\"2020_2039\", \"2040_2059\", \"2060_2079\", \"2080_2099\"]\n",
    "\n",
    "logger = logging.getLogger(\"download\")\n",
    "formatter = logging.Formatter(\"%(asctime)s -  %(name)-12s %(levelname)-8s %(message)s\")\n",
    "logger.setLevel(logging.DEBUG)\n",
    "fh = logging.FileHandler(\"download.log\")\n",
    "fh.setLevel(logging.DEBUG)\n",
    "fh.setFormatter(formatter)\n",
    "logger.addHandler(fh)\n",
    "logger.info(f\"Starting...\")"
   ]
  },
  {
   "cell_type": "code",
   "execution_count": 47,
   "metadata": {},
   "outputs": [],
   "source": [
    "def get_url(url, destination):\n",
    "    if Path(destination).is_file():\n",
    "        logger.info(f\"{destination} already exist ! No download.\")\n",
    "        return False\n",
    "    logger.debug(f\"{url} -> {destination}\")\n",
    "    # Retreive the content\n",
    "    try:\n",
    "        r = requests.get(url)\n",
    "        content = r.content\n",
    "        if r.status_code != 200:\n",
    "            logger.error(f\"ERROR HTTP : {r.status_code} for {url}\")\n",
    "            return False\n",
    "        if len(r.content) < 1_000:\n",
    "            logger.error(f\"ERROR HTTP content too small : {content} for {url}\")\n",
    "            return False\n",
    "\n",
    "        with open(destination, \"wb\") as f:\n",
    "            f.write(content)\n",
    "        return True\n",
    "    except:\n",
    "        logger.error(f\"Unexpected ERROR for {url}: {sys.exc_info()[0]}\")\n",
    "        return False"
   ]
  },
  {
   "cell_type": "code",
   "execution_count": 48,
   "metadata": {},
   "outputs": [],
   "source": [
    "nb_iter = 0\n",
    "# asyncloop = asyncio.get_event_loop()\n",
    "# tasks = []\n",
    "with concurrent.futures.ThreadPoolExecutor(max_workers=32) as executor:\n",
    "    futures = []\n",
    "    for country_code, country_name in zip(countries_code, countries_name):\n",
    "        for nature in nature_of_data:\n",
    "            time_series = (\n",
    "                past_time_series if nature == \"historical\" else futu_time_series\n",
    "            )\n",
    "            data_type = \"\" if nature == \"historical\" else \"/mavg\"\n",
    "            projection = \"\" if nature == \"historical\" else \"/rcp85\"\n",
    "            for period in time_series:\n",
    "                nb_iter += 1\n",
    "                # Build URL\n",
    "                url = (\n",
    "                    \"https://climateknowledgeportal.worldbank.org/api/data/get-download-data/\"\n",
    "                    + f\"{nature}{data_type}/tas{projection}/{period}/{country_code}/{urllib.parse.quote_plus(country_name)}\"\n",
    "                )\n",
    "                # build destination name\n",
    "                filename = \"_\".join([nature, period, country_code]) + \".csv\"\n",
    "                destination = os.path.join(PATH_temperature, filename)\n",
    "                # tasks.append(asyncloop.create_task(get_url(url, destination)))\n",
    "                futures.append(\n",
    "                    executor.submit(get_url, url=url, destination=destination)\n",
    "                )\n",
    "    for future in concurrent.futures.as_completed(futures):\n",
    "        # print(future.result())\n",
    "        logger.debug(f\"Done {future.result()}\")\n",
    "# for task in tasks:\n",
    "#     await task\n",
    "\n",
    "logger.info(f\"Done after {nb_iter} iterations.\")\n",
    "# https://climateknowledgeportal.worldbank.org/api/data/get-download-data/projection/mavg/pr/rcp85/2060_2079/BDI/Burundi\n",
    "\n",
    "logger.debug(f\"Done {future.result()}\")"
   ]
  },
  {
   "cell_type": "code",
   "execution_count": null,
   "metadata": {},
   "outputs": [],
   "source": []
  },
  {
   "cell_type": "markdown",
   "metadata": {},
   "source": [
    "#### Merge Temperature files in CSV"
   ]
  },
  {
   "cell_type": "code",
   "execution_count": 49,
   "metadata": {},
   "outputs": [],
   "source": [
    "import os\n",
    "import glob\n",
    "\n",
    "os.chdir(DATASET_FOLDER_DEST + \"temperature/\")\n",
    "\n",
    "extension = \"csv\"\n",
    "all_filenames = [i for i in glob.glob(\"*.{}\".format(extension))]\n",
    "\n",
    "# combine all files in the list\n",
    "combined_temp = pd.concat([pd.read_csv(f) for f in all_filenames])\n",
    "# export to csv\n",
    "combined_temp.to_csv(\"combined_temperature.csv\", index=False, encoding=\"utf-8-sig\")"
   ]
  },
  {
   "cell_type": "code",
   "execution_count": null,
   "metadata": {},
   "outputs": [],
   "source": []
  },
  {
   "cell_type": "code",
   "execution_count": null,
   "metadata": {},
   "outputs": [],
   "source": []
  }
 ],
 "metadata": {
  "kernelspec": {
   "display_name": "Python 3",
   "language": "python",
   "name": "python3"
  },
  "language_info": {
   "codemirror_mode": {
    "name": "ipython",
    "version": 3
   },
   "file_extension": ".py",
   "mimetype": "text/x-python",
   "name": "python",
   "nbconvert_exporter": "python",
   "pygments_lexer": "ipython3",
   "version": "3.8.3"
  }
 },
 "nbformat": 4,
 "nbformat_minor": 4
}
