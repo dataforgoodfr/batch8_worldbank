{
 "cells": [
  {
   "cell_type": "markdown",
   "metadata": {},
   "source": [
    "# Export for Dashboard"
   ]
  },
  {
   "cell_type": "code",
   "execution_count": 30,
   "metadata": {},
   "outputs": [],
   "source": [
    "# For multiple output per cell\n",
    "from IPython.core.interactiveshell import InteractiveShell\n",
    "\n",
    "InteractiveShell.ast_node_interactivity = \"all\""
   ]
  },
  {
   "cell_type": "code",
   "execution_count": 31,
   "metadata": {},
   "outputs": [],
   "source": [
    "# DATASET_FOLDER = '/media/data-nvme/dev/datasets/WorldBank/'\n",
    "DATASET_FOLDER = \"../../datasets/precipitation/\"\n",
    "\n",
    "SPARK_MASTER = \"spark://192.168.0.9:7077\"\n",
    "APP_NAME = \"Merge PRCP GKP\"\n",
    "input_folder = DATASET_FOLDER\n",
    "output = DATASET_FOLDER + \"../wb_gkp_precipitation\""
   ]
  },
  {
   "cell_type": "code",
   "execution_count": 32,
   "metadata": {},
   "outputs": [],
   "source": [
    "import os\n",
    "import pandas as pd"
   ]
  },
  {
   "cell_type": "code",
   "execution_count": 33,
   "metadata": {},
   "outputs": [],
   "source": [
    "import pandas as pd\n",
    "from pyspark import SparkContext\n",
    "\n",
    "# from pyspark import SparkConf\n",
    "from pyspark.sql import SparkSession\n",
    "\n",
    "# from pyspark.sql.window import Window\n",
    "from pyspark.sql.types import FloatType\n",
    "import pyspark.sql.functions as F\n",
    "\n",
    "import shutil"
   ]
  },
  {
   "cell_type": "code",
   "execution_count": 72,
   "metadata": {},
   "outputs": [
    {
     "name": "stdout",
     "output_type": "stream",
     "text": [
      "Create Spark session\n"
     ]
    }
   ],
   "source": [
    "### Connect to Spark\n",
    "print(\"Create Spark session\")\n",
    "spark = SparkSession.builder.master(SPARK_MASTER).appName(APP_NAME).getOrCreate()\n",
    "sc = spark.sparkContext"
   ]
  },
  {
   "cell_type": "markdown",
   "metadata": {},
   "source": [
    "# History"
   ]
  },
  {
   "cell_type": "markdown",
   "metadata": {},
   "source": [
    "### Load EMDAT"
   ]
  },
  {
   "cell_type": "code",
   "execution_count": 35,
   "metadata": {},
   "outputs": [],
   "source": [
    "#!ls /media/data-nvme/dev/datasets/WorldBank/"
   ]
  },
  {
   "cell_type": "code",
   "execution_count": 36,
   "metadata": {},
   "outputs": [],
   "source": [
    "# Load EMDAT\n",
    "emdat = (\n",
    "    spark.read.format(\"csv\")\n",
    "    .option(\"header\", True)\n",
    "    .option(\"multiLine\", True)\n",
    "    .load(\n",
    "        \"/media/data-nvme/dev/datasets/WorldBank/\"\n",
    "        + \"emdat_public_2020_09_12_query_uid-tAnKEX-floods_only.csv\"\n",
    "    )\n",
    ")"
   ]
  },
  {
   "cell_type": "code",
   "execution_count": 49,
   "metadata": {},
   "outputs": [
    {
     "name": "stdout",
     "output_type": "stream",
     "text": [
      "['Dis No', 'Year', 'Seq', 'Disaster Subtype', 'Disaster Subsubtype', 'Event Name', 'Entry Criteria', 'Country', 'ISO', 'Region', 'Continent', 'Location', 'Origin', 'Associated Dis', 'Associated Dis2', 'OFDA Response', 'Appeal', 'Declaration', 'Aid Contribution', 'Dis Mag Value', 'Dis Mag Scale', 'Latitude', 'Longitude', 'Local Time', 'River Basin', 'Total Deaths', 'No Injured', 'No Affected', 'No Homeless', 'Total Affected', \"Reconstruction Costs ('000 US$)\", \"Insured Damages ('000 US$)\", \"Total Damages ('000 US$)\", 'CPI', 'date', 'decade']\n"
     ]
    }
   ],
   "source": [
    "print(emdat.columns)"
   ]
  },
  {
   "cell_type": "code",
   "execution_count": null,
   "metadata": {},
   "outputs": [],
   "source": [
    "# emdat = emdat.withColumn('decade',  F.concat(F.col('Year').substr(0, 3) , F.lit('0-') , F.col('Year').substr(0, 3), F.lit('9')))\n",
    "emdat = emdat.withColumn(\"decade\", F.concat(F.col(\"Year\").substr(0, 3), F.lit(\"0\")))\n",
    "# emdat.take(3)"
   ]
  },
  {
   "cell_type": "code",
   "execution_count": 40,
   "metadata": {},
   "outputs": [
    {
     "name": "stdout",
     "output_type": "stream",
     "text": [
      "Cast string to float\n"
     ]
    }
   ],
   "source": [
    "###### Cast Type\n",
    "print(\"Cast string to float\")\n",
    "emdat = emdat.withColumn(\n",
    "    \"Total Deaths\", emdat[\"Total Deaths\"].cast(FloatType())\n",
    ").withColumn(\n",
    "    \"Total Damages ('000 US$)\", emdat[\"Total Damages ('000 US$)\"].cast(FloatType())\n",
    ")\n",
    "emdat.createOrReplaceTempView(\"emdat\")"
   ]
  },
  {
   "cell_type": "code",
   "execution_count": 41,
   "metadata": {},
   "outputs": [
    {
     "data": {
      "text/plain": [
       "5226"
      ]
     },
     "execution_count": 41,
     "metadata": {},
     "output_type": "execute_result"
    }
   ],
   "source": [
    "emdat.count()"
   ]
  },
  {
   "cell_type": "code",
   "execution_count": 57,
   "metadata": {},
   "outputs": [
    {
     "data": {
      "text/html": [
       "<div>\n",
       "<style scoped>\n",
       "    .dataframe tbody tr th:only-of-type {\n",
       "        vertical-align: middle;\n",
       "    }\n",
       "\n",
       "    .dataframe tbody tr th {\n",
       "        vertical-align: top;\n",
       "    }\n",
       "\n",
       "    .dataframe thead th {\n",
       "        text-align: right;\n",
       "    }\n",
       "</style>\n",
       "<table border=\"1\" class=\"dataframe\">\n",
       "  <thead>\n",
       "    <tr style=\"text-align: right;\">\n",
       "      <th></th>\n",
       "      <th>Decade</th>\n",
       "      <th>ISO</th>\n",
       "      <th>UN_Geosheme_Subregion</th>\n",
       "      <th>Disaster_Type</th>\n",
       "      <th>RCP</th>\n",
       "      <th>Financial_Impact</th>\n",
       "      <th>Human_Impact</th>\n",
       "      <th>DO</th>\n",
       "    </tr>\n",
       "  </thead>\n",
       "  <tbody>\n",
       "    <tr>\n",
       "      <th>5</th>\n",
       "      <td>1920</td>\n",
       "      <td>USA</td>\n",
       "      <td>Northern America</td>\n",
       "      <td>Flood</td>\n",
       "      <td>past</td>\n",
       "      <td>230.0</td>\n",
       "      <td>246.0</td>\n",
       "      <td>1</td>\n",
       "    </tr>\n",
       "    <tr>\n",
       "      <th>10</th>\n",
       "      <td>1930</td>\n",
       "      <td>CHN</td>\n",
       "      <td>Eastern Asia</td>\n",
       "      <td>Flood</td>\n",
       "      <td>past</td>\n",
       "      <td>1400000.0</td>\n",
       "      <td>4200000.0</td>\n",
       "      <td>2</td>\n",
       "    </tr>\n",
       "    <tr>\n",
       "      <th>12</th>\n",
       "      <td>1930</td>\n",
       "      <td>USA</td>\n",
       "      <td>Northern America</td>\n",
       "      <td>Flood</td>\n",
       "      <td>past</td>\n",
       "      <td>438000.0</td>\n",
       "      <td>337.0</td>\n",
       "      <td>2</td>\n",
       "    </tr>\n",
       "  </tbody>\n",
       "</table>\n",
       "</div>"
      ],
      "text/plain": [
       "   Decade  ISO UN_Geosheme_Subregion Disaster_Type   RCP  Financial_Impact  \\\n",
       "5    1920  USA      Northern America         Flood  past             230.0   \n",
       "10   1930  CHN          Eastern Asia         Flood  past         1400000.0   \n",
       "12   1930  USA      Northern America         Flood  past          438000.0   \n",
       "\n",
       "    Human_Impact  DO  \n",
       "5          246.0   1  \n",
       "10     4200000.0   2  \n",
       "12         337.0   2  "
      ]
     },
     "execution_count": 57,
     "metadata": {},
     "output_type": "execute_result"
    }
   ],
   "source": [
    "# Agregate by decade and country\n",
    "emdat_agregate = spark.sql(\n",
    "    \"\"\"\n",
    "SELECT decade as Decade, ISO, region as UN_Geosheme_Subregion, 'Flood' as Disaster_Type, 'past' as RCP,\n",
    "    sum(`Total Damages ('000 US$)`) as Financial_Impact, sum(`Total Deaths`) as Human_Impact,\n",
    "    count(`Dis No`) as DO\n",
    "FROM emdat\n",
    "GROUP BY decade, region, ISO\n",
    "ORDER BY decade, region, ISO\n",
    "\"\"\"\n",
    ")\n",
    "\n",
    "dfp = emdat_agregate.toPandas()\n",
    "dfp.dropna().head(3)"
   ]
  },
  {
   "cell_type": "markdown",
   "metadata": {},
   "source": [
    "### Load Rainfall"
   ]
  },
  {
   "cell_type": "code",
   "execution_count": 16,
   "metadata": {},
   "outputs": [],
   "source": [
    "# Load Rainfall\n",
    "DATASET_FOLDER = \"../../datasets/WorldBank\"\n",
    "rain = (\n",
    "    spark.read.format(\"csv\")\n",
    "    .option(\"header\", True)\n",
    "    .option(\"multiLine\", True)\n",
    "    .load(f\"{DATASET_FOLDER}/daily_rain_by_country_feature.csv.gz\")\n",
    ")"
   ]
  },
  {
   "cell_type": "code",
   "execution_count": 59,
   "metadata": {},
   "outputs": [],
   "source": [
    "# Create an agregate of rain by decade and country\n",
    "rain.createOrReplaceTempView(\"noaa\")\n",
    "noaa = spark.sql(\n",
    "    \"\"\"\n",
    "    SELECT decade, country_ISO3, count(avg_rain) as `nb_days_with_rain_>_50mm` FROM noaa\n",
    "    WHERE avg_rain > 50\n",
    "    GROUP BY decade, country_ISO3\n",
    "    ORDER BY decade, country_ISO3\n",
    "\"\"\"\n",
    ")\n",
    "noaa.createOrReplaceTempView(\"noaa_agregate\")"
   ]
  },
  {
   "cell_type": "markdown",
   "metadata": {},
   "source": [
    "## Join EMDAT and Rainfall"
   ]
  },
  {
   "cell_type": "code",
   "execution_count": 60,
   "metadata": {},
   "outputs": [
    {
     "name": "stdout",
     "output_type": "stream",
     "text": [
      "+------+---+---------------------+-------------+----+----------------+------------+---+------------------------+\n",
      "|Decade|ISO|UN_Geosheme_Subregion|Disaster_Type| RCP|Financial_Impact|Human_Impact| DO|nb_days_with_rain_>_50mm|\n",
      "+------+---+---------------------+-------------+----+----------------+------------+---+------------------------+\n",
      "|  1960|VEN|        South America|        Flood|past|          4126.0|        null|  1|                    1438|\n",
      "|  1980|PER|        South America|        Flood|past|          7200.0|       783.0|  9|                    1110|\n",
      "|  1990|ZWE|       Eastern Africa|        Flood|past|            null|        36.0|  1|                     876|\n",
      "+------+---+---------------------+-------------+----+----------------+------------+---+------------------------+\n",
      "only showing top 3 rows\n",
      "\n"
     ]
    }
   ],
   "source": [
    "# Join EMDAT agregate and rain agregate\n",
    "emdat_agregate.createOrReplaceTempView(\"emdat_agregate\")\n",
    "emdat_rain_agregate = spark.sql(\n",
    "    \"\"\"\n",
    "    SELECT emdat_agregate.*, noaa_agregate.`nb_days_with_rain_>_50mm`\n",
    "    FROM emdat_agregate LEFT JOIN noaa_agregate ON emdat_agregate.decade = noaa_agregate.decade\n",
    "        AND emdat_agregate.ISO = noaa_agregate.country_ISO3\n",
    "\"\"\"\n",
    ")\n",
    "emdat_rain_agregate.show(3)"
   ]
  },
  {
   "cell_type": "code",
   "execution_count": 66,
   "metadata": {},
   "outputs": [
    {
     "name": "stdout",
     "output_type": "stream",
     "text": [
      "+------+---------------------+-------------+----+----------------+------------+---+------------------------+\n",
      "|Decade|UN_Geosheme_Subregion|Disaster_Type| RCP|Financial_Impact|Human_Impact| DO|nb_days_with_rain_>_50mm|\n",
      "+------+---------------------+-------------+----+----------------+------------+---+------------------------+\n",
      "|  1900|            Caribbean|        Flood|past|             0.0|       300.0|  1|                    null|\n",
      "|  1900|     Northern America|        Flood|past|             0.0|        72.0|  1|                     626|\n",
      "|  1900|       Western Europe|        Flood|past|             0.0|         6.0|  2|                     952|\n",
      "+------+---------------------+-------------+----+----------------+------------+---+------------------------+\n",
      "only showing top 3 rows\n",
      "\n"
     ]
    }
   ],
   "source": [
    "# Agregate by region\n",
    "emdat_rain_agregate.createOrReplaceTempView(\"emdat_rain_gregate\")\n",
    "emdat_rain_agregate_by_country = spark.sql(\n",
    "    \"\"\"\n",
    "SELECT Decade, UN_Geosheme_Subregion, Disaster_Type, RCP, sum(Financial_Impact) as Financial_Impact, sum(Human_Impact) as Human_Impact, sum(DO) as DO, sum(`nb_days_with_rain_>_50mm`) as `nb_days_with_rain_>_50mm`\n",
    "FROM emdat_rain_gregate\n",
    "GROUP BY Decade, UN_Geosheme_Subregion, Disaster_Type, RCP\n",
    "ORDER BY Decade, UN_Geosheme_Subregion\n",
    "\"\"\"\n",
    ")"
   ]
  },
  {
   "cell_type": "code",
   "execution_count": 67,
   "metadata": {},
   "outputs": [
    {
     "name": "stdout",
     "output_type": "stream",
     "text": [
      "+------+---------------------+-------------+----+----------------+------------+---+------------------------+\n",
      "|Decade|UN_Geosheme_Subregion|Disaster_Type| RCP|Financial_Impact|Human_Impact| DO|nb_days_with_rain_>_50mm|\n",
      "+------+---------------------+-------------+----+----------------+------------+---+------------------------+\n",
      "|  1900|            Caribbean|        Flood|past|             0.0|       300.0|  1|                       0|\n",
      "|  1900|     Northern America|        Flood|past|             0.0|        72.0|  1|                     626|\n",
      "|  1900|       Western Europe|        Flood|past|             0.0|         6.0|  2|                     952|\n",
      "+------+---------------------+-------------+----+----------------+------------+---+------------------------+\n",
      "only showing top 3 rows\n",
      "\n"
     ]
    }
   ],
   "source": [
    "# Filling NA/null with 0\n",
    "emdat_rain_agregate_by_country = emdat_rain_agregate_by_country.fillna(\n",
    "    {\"Financial_Impact\": 0, \"Human_Impact\": 0, \"nb_days_with_rain_>_50mm\": 0}\n",
    ")\n",
    "emdat_rain_agregate_by_country.show(3)"
   ]
  },
  {
   "cell_type": "code",
   "execution_count": 194,
   "metadata": {},
   "outputs": [],
   "source": [
    "# dfp = emdat.toPandas()"
   ]
  },
  {
   "cell_type": "code",
   "execution_count": 195,
   "metadata": {},
   "outputs": [],
   "source": [
    "# dfp[['Dis No', \"Total Deaths\"]]"
   ]
  },
  {
   "cell_type": "code",
   "execution_count": 196,
   "metadata": {},
   "outputs": [],
   "source": [
    "# dfp[dfp['Dis No'] == '1906-0023-BEL'] #\") #1906-0023-BEL \t1950-0007-CHN"
   ]
  },
  {
   "cell_type": "code",
   "execution_count": 69,
   "metadata": {},
   "outputs": [
    {
     "name": "stdout",
     "output_type": "stream",
     "text": [
      "+------+---------------------+-------------+----+----------------+------------+---+------------------------+\n",
      "|Decade|UN_Geosheme_Subregion|Disaster_Type| RCP|Financial_Impact|Human_Impact| DO|nb_days_with_rain_>_50mm|\n",
      "+------+---------------------+-------------+----+----------------+------------+---+------------------------+\n",
      "|  1970|      Southern Africa|        Flood|past|            50.0|        56.0|  4|                    1172|\n",
      "|  1990|        Middle Africa|        Flood|past|            59.0|       146.0| 19|                    6410|\n",
      "|  1920|     Northern America|        Flood|past|           230.0|       246.0|  1|                     418|\n",
      "+------+---------------------+-------------+----+----------------+------------+---+------------------------+\n",
      "only showing top 3 rows\n",
      "\n"
     ]
    }
   ],
   "source": [
    "# Check that wr have good data\n",
    "emdat_rain_agregate_by_country.createOrReplaceTempView(\"emdat_rain_agregate_by_country\")\n",
    "\n",
    "spark.sql(\n",
    "    \"\"\"\n",
    "SELECT *\n",
    "FROM emdat_rain_agregate_by_country\n",
    "WHERE Financial_Impact > 0\n",
    "ORDER BY Financial_Impact\n",
    "\"\"\"\n",
    ").show(3)"
   ]
  },
  {
   "cell_type": "code",
   "execution_count": 70,
   "metadata": {},
   "outputs": [
    {
     "data": {
      "text/html": [
       "<div>\n",
       "<style scoped>\n",
       "    .dataframe tbody tr th:only-of-type {\n",
       "        vertical-align: middle;\n",
       "    }\n",
       "\n",
       "    .dataframe tbody tr th {\n",
       "        vertical-align: top;\n",
       "    }\n",
       "\n",
       "    .dataframe thead th {\n",
       "        text-align: right;\n",
       "    }\n",
       "</style>\n",
       "<table border=\"1\" class=\"dataframe\">\n",
       "  <thead>\n",
       "    <tr style=\"text-align: right;\">\n",
       "      <th></th>\n",
       "      <th>Decade</th>\n",
       "      <th>UN_Geosheme_Subregion</th>\n",
       "      <th>Disaster_Type</th>\n",
       "      <th>RCP</th>\n",
       "      <th>Financial_Impact</th>\n",
       "      <th>Human_Impact</th>\n",
       "      <th>DO</th>\n",
       "      <th>nb_days_with_rain_&gt;_50mm</th>\n",
       "    </tr>\n",
       "  </thead>\n",
       "  <tbody>\n",
       "    <tr>\n",
       "      <th>0</th>\n",
       "      <td>1900</td>\n",
       "      <td>Caribbean</td>\n",
       "      <td>Flood</td>\n",
       "      <td>past</td>\n",
       "      <td>0.0</td>\n",
       "      <td>300.0</td>\n",
       "      <td>1</td>\n",
       "      <td>0</td>\n",
       "    </tr>\n",
       "    <tr>\n",
       "      <th>1</th>\n",
       "      <td>1900</td>\n",
       "      <td>Northern America</td>\n",
       "      <td>Flood</td>\n",
       "      <td>past</td>\n",
       "      <td>0.0</td>\n",
       "      <td>72.0</td>\n",
       "      <td>1</td>\n",
       "      <td>626</td>\n",
       "    </tr>\n",
       "    <tr>\n",
       "      <th>2</th>\n",
       "      <td>1900</td>\n",
       "      <td>Western Europe</td>\n",
       "      <td>Flood</td>\n",
       "      <td>past</td>\n",
       "      <td>0.0</td>\n",
       "      <td>6.0</td>\n",
       "      <td>2</td>\n",
       "      <td>952</td>\n",
       "    </tr>\n",
       "    <tr>\n",
       "      <th>3</th>\n",
       "      <td>1910</td>\n",
       "      <td>Eastern Asia</td>\n",
       "      <td>Flood</td>\n",
       "      <td>past</td>\n",
       "      <td>0.0</td>\n",
       "      <td>1379.0</td>\n",
       "      <td>1</td>\n",
       "      <td>0</td>\n",
       "    </tr>\n",
       "    <tr>\n",
       "      <th>4</th>\n",
       "      <td>1920</td>\n",
       "      <td>Northern Africa</td>\n",
       "      <td>Flood</td>\n",
       "      <td>past</td>\n",
       "      <td>0.0</td>\n",
       "      <td>3000.0</td>\n",
       "      <td>1</td>\n",
       "      <td>686</td>\n",
       "    </tr>\n",
       "    <tr>\n",
       "      <th>...</th>\n",
       "      <td>...</td>\n",
       "      <td>...</td>\n",
       "      <td>...</td>\n",
       "      <td>...</td>\n",
       "      <td>...</td>\n",
       "      <td>...</td>\n",
       "      <td>...</td>\n",
       "      <td>...</td>\n",
       "    </tr>\n",
       "    <tr>\n",
       "      <th>161</th>\n",
       "      <td>2020</td>\n",
       "      <td>Southern Asia</td>\n",
       "      <td>Flood</td>\n",
       "      <td>past</td>\n",
       "      <td>1300000.0</td>\n",
       "      <td>1870.0</td>\n",
       "      <td>20</td>\n",
       "      <td>978</td>\n",
       "    </tr>\n",
       "    <tr>\n",
       "      <th>162</th>\n",
       "      <td>2020</td>\n",
       "      <td>Southern Europe</td>\n",
       "      <td>Flood</td>\n",
       "      <td>past</td>\n",
       "      <td>28000.0</td>\n",
       "      <td>0.0</td>\n",
       "      <td>2</td>\n",
       "      <td>170</td>\n",
       "    </tr>\n",
       "    <tr>\n",
       "      <th>163</th>\n",
       "      <td>2020</td>\n",
       "      <td>Western Africa</td>\n",
       "      <td>Flood</td>\n",
       "      <td>past</td>\n",
       "      <td>0.0</td>\n",
       "      <td>63.0</td>\n",
       "      <td>3</td>\n",
       "      <td>400</td>\n",
       "    </tr>\n",
       "    <tr>\n",
       "      <th>164</th>\n",
       "      <td>2020</td>\n",
       "      <td>Western Asia</td>\n",
       "      <td>Flood</td>\n",
       "      <td>past</td>\n",
       "      <td>0.0</td>\n",
       "      <td>201.0</td>\n",
       "      <td>5</td>\n",
       "      <td>138</td>\n",
       "    </tr>\n",
       "    <tr>\n",
       "      <th>165</th>\n",
       "      <td>2020</td>\n",
       "      <td>Western Europe</td>\n",
       "      <td>Flood</td>\n",
       "      <td>past</td>\n",
       "      <td>0.0</td>\n",
       "      <td>0.0</td>\n",
       "      <td>1</td>\n",
       "      <td>56</td>\n",
       "    </tr>\n",
       "  </tbody>\n",
       "</table>\n",
       "<p>166 rows × 8 columns</p>\n",
       "</div>"
      ],
      "text/plain": [
       "    Decade UN_Geosheme_Subregion Disaster_Type   RCP  Financial_Impact  \\\n",
       "0     1900             Caribbean         Flood  past               0.0   \n",
       "1     1900      Northern America         Flood  past               0.0   \n",
       "2     1900        Western Europe         Flood  past               0.0   \n",
       "3     1910          Eastern Asia         Flood  past               0.0   \n",
       "4     1920       Northern Africa         Flood  past               0.0   \n",
       "..     ...                   ...           ...   ...               ...   \n",
       "161   2020         Southern Asia         Flood  past         1300000.0   \n",
       "162   2020       Southern Europe         Flood  past           28000.0   \n",
       "163   2020        Western Africa         Flood  past               0.0   \n",
       "164   2020          Western Asia         Flood  past               0.0   \n",
       "165   2020        Western Europe         Flood  past               0.0   \n",
       "\n",
       "     Human_Impact  DO  nb_days_with_rain_>_50mm  \n",
       "0           300.0   1                         0  \n",
       "1            72.0   1                       626  \n",
       "2             6.0   2                       952  \n",
       "3          1379.0   1                         0  \n",
       "4          3000.0   1                       686  \n",
       "..            ...  ..                       ...  \n",
       "161        1870.0  20                       978  \n",
       "162           0.0   2                       170  \n",
       "163          63.0   3                       400  \n",
       "164         201.0   5                       138  \n",
       "165           0.0   1                        56  \n",
       "\n",
       "[166 rows x 8 columns]"
      ]
     },
     "execution_count": 70,
     "metadata": {},
     "output_type": "execute_result"
    }
   ],
   "source": [
    "# Saving in one file with Pandas\n",
    "dfp = emdat_rain_agregate_by_country.toPandas()\n",
    "dfp\n",
    "dfp.to_csv(\n",
    "    f\"{DATASET_FOLDER}../flood_history_agregates.csv.gz\",\n",
    "    index=False,\n",
    "    compression=\"gzip\",\n",
    ")"
   ]
  },
  {
   "cell_type": "markdown",
   "metadata": {},
   "source": [
    "# Projection"
   ]
  },
  {
   "cell_type": "code",
   "execution_count": null,
   "metadata": {},
   "outputs": [],
   "source": []
  },
  {
   "cell_type": "code",
   "execution_count": 6,
   "metadata": {},
   "outputs": [],
   "source": [
    "# rain = spark.read.format('csv').option('header',True).option('multiLine', True) \\\n",
    "#     .load(f'{DATASET_FOLDER}../projection_preciptation_monthly_merged-2020-12-02')"
   ]
  },
  {
   "cell_type": "code",
   "execution_count": 73,
   "metadata": {},
   "outputs": [],
   "source": [
    "sc.stop()"
   ]
  },
  {
   "cell_type": "code",
   "execution_count": null,
   "metadata": {},
   "outputs": [],
   "source": []
  }
 ],
 "metadata": {
  "kernelspec": {
   "display_name": "pySpark",
   "language": "python",
   "name": "pyspark"
  },
  "language_info": {
   "codemirror_mode": {
    "name": "ipython",
    "version": 3
   },
   "file_extension": ".py",
   "mimetype": "text/x-python",
   "name": "python",
   "nbconvert_exporter": "python",
   "pygments_lexer": "ipython3",
   "version": "3.8.6"
  }
 },
 "nbformat": 4,
 "nbformat_minor": 4
}
