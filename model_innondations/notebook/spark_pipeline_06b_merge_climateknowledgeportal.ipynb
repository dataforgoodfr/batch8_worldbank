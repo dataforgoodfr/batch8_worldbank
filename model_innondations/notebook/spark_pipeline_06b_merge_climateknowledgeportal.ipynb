{
 "cells": [
  {
   "cell_type": "markdown",
   "metadata": {},
   "source": [
    "# Merging Climate Knowledge Portal Data"
   ]
  },
  {
   "cell_type": "code",
   "execution_count": 1,
   "metadata": {},
   "outputs": [],
   "source": [
    "# For multiple output per cell\n",
    "from IPython.core.interactiveshell import InteractiveShell\n",
    "\n",
    "InteractiveShell.ast_node_interactivity = \"all\""
   ]
  },
  {
   "cell_type": "code",
   "execution_count": 2,
   "metadata": {},
   "outputs": [],
   "source": [
    "# DATASET_FOLDER = '/media/data-nvme/dev/datasets/WorldBank/'\n",
    "DATASET_FOLDER = \"../../datasets/precipitation/\"\n",
    "\n",
    "SPARK_MASTER = \"spark://192.168.0.9:7077\"\n",
    "APP_NAME = \"Merge PRCP GKP\"\n",
    "input_folder = DATASET_FOLDER\n",
    "output = DATASET_FOLDER + \"../wb_gkp_precipitation\""
   ]
  },
  {
   "cell_type": "code",
   "execution_count": 3,
   "metadata": {},
   "outputs": [],
   "source": [
    "import os\n",
    "import pandas as pd"
   ]
  },
  {
   "cell_type": "markdown",
   "metadata": {},
   "source": [
    "# Merge projection on same line"
   ]
  },
  {
   "cell_type": "code",
   "execution_count": 4,
   "metadata": {},
   "outputs": [],
   "source": [
    "import pandas as pd\n",
    "from pyspark import SparkContext\n",
    "\n",
    "# from pyspark import SparkConf\n",
    "from pyspark.sql import SparkSession\n",
    "\n",
    "# from pyspark.sql.window import Window\n",
    "from pyspark.sql.types import FloatType\n",
    "import pyspark.sql.functions as F\n",
    "\n",
    "import shutil"
   ]
  },
  {
   "cell_type": "markdown",
   "metadata": {},
   "source": [
    "## Connect to Spark"
   ]
  },
  {
   "cell_type": "code",
   "execution_count": 6,
   "metadata": {},
   "outputs": [
    {
     "name": "stdout",
     "output_type": "stream",
     "text": [
      "Create Spark session\n"
     ]
    }
   ],
   "source": [
    "print(\"Create Spark session\")\n",
    "spark = SparkSession.builder.master(SPARK_MASTER).appName(APP_NAME).getOrCreate()\n",
    "sc = spark.sparkContext"
   ]
  },
  {
   "cell_type": "code",
   "execution_count": 7,
   "metadata": {},
   "outputs": [],
   "source": [
    "#!ls /media/data-nvme/dev/datasets/WorldBank/"
   ]
  },
  {
   "cell_type": "markdown",
   "metadata": {},
   "source": [
    "# Load"
   ]
  },
  {
   "cell_type": "code",
   "execution_count": 8,
   "metadata": {},
   "outputs": [],
   "source": [
    "# df = spark.read.format('csv').option('header',True).option('multiLine', True).load(f'{DATASET_FOLDER}../projection_precipitation_clean_2020-12-01.csv')\n",
    "df = spark.read.csv(\n",
    "    f\"{DATASET_FOLDER}../projection_precipitation_clean_2020-12-01.csv\",\n",
    "    inferSchema=True,\n",
    "    header=True,\n",
    ")"
   ]
  },
  {
   "cell_type": "code",
   "execution_count": 9,
   "metadata": {},
   "outputs": [],
   "source": [
    "# df.columns"
   ]
  },
  {
   "cell_type": "code",
   "execution_count": 10,
   "metadata": {},
   "outputs": [
    {
     "data": {
      "text/plain": [
       "6039651"
      ]
     },
     "execution_count": 10,
     "metadata": {},
     "output_type": "execute_result"
    }
   ],
   "source": [
    "df.count()"
   ]
  },
  {
   "cell_type": "code",
   "execution_count": 12,
   "metadata": {},
   "outputs": [
    {
     "name": "stdout",
     "output_type": "stream",
     "text": [
      "root\n",
      " |-- 5-day_rain_sum_max_25_years_mm: double (nullable = true)\n",
      " |-- year: string (nullable = true)\n",
      " |-- model: string (nullable = true)\n",
      " |-- statistics: string (nullable = true)\n",
      " |-- ISO3: string (nullable = true)\n",
      " |-- projection_rcp: string (nullable = true)\n",
      " |-- daily_rain_max_25_years_mm: double (nullable = true)\n",
      " |-- nb_days_with_rain_>_50mm: double (nullable = true)\n",
      " |-- monthly_prcp_mm: double (nullable = true)\n",
      " |-- Country: string (nullable = true)\n",
      " |-- 5-day_rain_sum_max_10_years_mm: double (nullable = true)\n",
      " |-- largest_5-day_rain_sum_mm: double (nullable = true)\n",
      " |-- nb_days_with_rain_>_20mm: double (nullable = true)\n",
      " |-- rain_from_very_wet_days_percent: double (nullable = true)\n",
      " |-- daily_rain_max_10_years_mm: double (nullable = true)\n",
      " |-- largest_month_rain_25_years_mm: double (nullable = true)\n",
      " |-- largest_single_day_rain_mm: double (nullable = true)\n",
      " |-- largest_month_rain_10_years_mm: double (nullable = true)\n",
      " |-- month: double (nullable = true)\n",
      "\n"
     ]
    }
   ],
   "source": [
    "df.printSchema()"
   ]
  },
  {
   "cell_type": "code",
   "execution_count": 13,
   "metadata": {},
   "outputs": [
    {
     "name": "stdout",
     "output_type": "stream",
     "text": [
      "+------------------------------+---------+--------------------+-----------+----+--------------+--------------------------+------------------------+---------------+-------+------------------------------+-------------------------+------------------------+-------------------------------+--------------------------+------------------------------+--------------------------+------------------------------+-----+\n",
      "|5-day_rain_sum_max_25_years_mm|     year|               model| statistics|ISO3|projection_rcp|daily_rain_max_25_years_mm|nb_days_with_rain_>_50mm|monthly_prcp_mm|Country|5-day_rain_sum_max_10_years_mm|largest_5-day_rain_sum_mm|nb_days_with_rain_>_20mm|rain_from_very_wet_days_percent|daily_rain_max_10_years_mm|largest_month_rain_25_years_mm|largest_single_day_rain_mm|largest_month_rain_10_years_mm|month|\n",
      "+------------------------------+---------+--------------------+-----------+----+--------------+--------------------------+------------------------+---------------+-------+------------------------------+-------------------------+------------------------+-------------------------------+--------------------------+------------------------------+--------------------------+------------------------------+-----+\n",
      "|                          null|2020-2039|Ensemble (10th Pe...|Jan Anomaly| DZA|         rcp45|                      null|                     0.0|           null|   null|                          null|                     null|                    null|                           null|                      null|                          null|                      null|                          null|  1.0|\n",
      "|                          null|2020-2039|Ensemble (10th Pe...|Jan Anomaly| DZA|         rcp45|                      null|                    null|           null|   null|                          null|                     null|                    null|                        -0.3558|                      null|                          null|                      null|                          null|  1.0|\n",
      "|                          null|2020-2039|Ensemble (10th Pe...|Jan Anomaly| DZA|         rcp26|                      null|                    null|           null|   null|                          null|                     null|                    null|                        -0.3257|                      null|                          null|                      null|                          null|  1.0|\n",
      "+------------------------------+---------+--------------------+-----------+----+--------------+--------------------------+------------------------+---------------+-------+------------------------------+-------------------------+------------------------+-------------------------------+--------------------------+------------------------------+--------------------------+------------------------------+-----+\n",
      "only showing top 3 rows\n",
      "\n"
     ]
    }
   ],
   "source": [
    "df.show(3)"
   ]
  },
  {
   "cell_type": "code",
   "execution_count": 24,
   "metadata": {},
   "outputs": [
    {
     "data": {
      "text/plain": [
       "76359"
      ]
     },
     "execution_count": 24,
     "metadata": {},
     "output_type": "execute_result"
    }
   ],
   "source": [
    "yearly_features = [\n",
    "    \"daily_rain_max_25_years_mm\",\n",
    "    \"daily_rain_max_10_years_mm\",\n",
    "    \"5-day_rain_sum_max_10_years_mm\",\n",
    "    \"5-day_rain_sum_max_25_years_mm\",\n",
    "    \"largest_month_rain_10_years_mm\",\n",
    "    \"largest_month_rain_25_years_mm\",\n",
    "]\n",
    "\n",
    "monthly_features = [\n",
    "    \"monthly_prcp_mm\",\n",
    "    \"largest_single_day_rain_mm\",\n",
    "    \"rain_from_very_wet_days_percent\",\n",
    "    \"largest_5-day_rain_sum_mm\",\n",
    "    \"nb_days_with_rain_>_50mm\",\n",
    "    \"nb_days_with_rain_>_20mm\",\n",
    "]\n",
    "\n",
    "df.createOrReplaceTempView(\"future\")\n",
    "df_yearly = spark.sql(\n",
    "    \"\"\"\n",
    "SELECT year, month, model, statistics, ISO3, projection_rcp, daily_rain_max_25_years_mm\n",
    "    FROM future\n",
    "    WHERE daily_rain_max_25_years_mm IS NOT NULL AND ISO3 IS NOT NULL AND year IS NOT NULL AND statistics IS NOT NULL\n",
    "\"\"\"\n",
    ")\n",
    "df_yearly.count()"
   ]
  },
  {
   "cell_type": "code",
   "execution_count": 25,
   "metadata": {},
   "outputs": [],
   "source": [
    "df_yearly = None\n",
    "for feature in yearly_features:\n",
    "    if not df_yearly:\n",
    "        df_yearly = spark.sql(\n",
    "            \"SELECT year, month, model, statistics, ISO3, projection_rcp, `\"\n",
    "            + feature\n",
    "            + \"` \"\n",
    "            + \"FROM future\"\n",
    "            + \" WHERE `\"\n",
    "            + feature\n",
    "            + \"` IS NOT NULL AND ISO3 IS NOT NULL AND year IS NOT NULL AND statistics IS NOT NULL\"\n",
    "        )\n",
    "    else:\n",
    "        sql = (\n",
    "            \"SELECT year, month, model, statistics, ISO3, projection_rcp, `\"\n",
    "            + feature\n",
    "            + \"`\"\n",
    "        )\n",
    "        sql += \" FROM future WHERE `\" + feature + \"` IS NOT NULL\"\n",
    "        df_temp = spark.sql(sql)\n",
    "        # df_temp.show(3)\n",
    "        df_temp.createOrReplaceTempView(\"temp\")\n",
    "        df_yearly.createOrReplaceTempView(\"yearly_table\")\n",
    "        sql = (\n",
    "            \"SELECT yearly_table.*, temp.`\"\n",
    "            + feature\n",
    "            + \"` FROM yearly_table LEFT JOIN temp\"\n",
    "            + \" ON yearly_table.year=temp.year AND yearly_table.statistics=temp.statistics \"\n",
    "            + \" AND yearly_table.model=temp.model AND yearly_table.ISO3=temp.ISO3 AND yearly_table.projection_rcp=temp.projection_rcp\"\n",
    "        )\n",
    "        # print(sql)\n",
    "        df_yearly = spark.sql(sql)\n",
    "df_yearly.createOrReplaceTempView(\"yearly_table\")"
   ]
  },
  {
   "cell_type": "code",
   "execution_count": null,
   "metadata": {},
   "outputs": [],
   "source": [
    "df_monthly = None\n",
    "for feature in monthly_features:\n",
    "    if not df_monthly:\n",
    "        df_monthly = spark.sql(\n",
    "            \"SELECT year, month, model, statistics, ISO3, projection_rcp, `\"\n",
    "            + feature\n",
    "            + \"` \"\n",
    "            + \"FROM future\"\n",
    "            + \" WHERE `\"\n",
    "            + feature\n",
    "            + \"` IS NOT NULL AND ISO3 IS NOT NULL AND year IS NOT NULL AND statistics IS NOT NULL AND month IS NOT NULL\"\n",
    "        )\n",
    "        # df_monthly.show(3)\n",
    "    else:\n",
    "        sql = (\n",
    "            \"SELECT year, month, model, statistics, ISO3, projection_rcp, `\"\n",
    "            + feature\n",
    "            + \"`\"\n",
    "        )\n",
    "        sql += \" FROM future WHERE `\" + feature + \"` IS NOT NULL\"\n",
    "        df_temp = spark.sql(sql)\n",
    "        # df_temp.show(3)\n",
    "        df_temp.createOrReplaceTempView(\"temp\")\n",
    "        df_monthly.createOrReplaceTempView(\"monthly_table\")\n",
    "        sql = (\n",
    "            \"SELECT monthly_table.*, temp.`\"\n",
    "            + feature\n",
    "            + \"` FROM monthly_table LEFT JOIN temp\"\n",
    "            + \" ON monthly_table.year=temp.year AND monthly_table.month=temp.month \"\n",
    "            + \" AND monthly_table.model=temp.model AND monthly_table.ISO3=temp.ISO3 AND monthly_table.projection_rcp=temp.projection_rcp\"\n",
    "            + \" AND monthly_table.month=temp.month\"\n",
    "        )\n",
    "        # print(sql)\n",
    "        df_monthly = spark.sql(sql)\n",
    "df_monthly.createOrReplaceTempView(\"monthly_table\")"
   ]
  },
  {
   "cell_type": "markdown",
   "metadata": {},
   "source": [
    "## Save"
   ]
  },
  {
   "cell_type": "code",
   "execution_count": 39,
   "metadata": {},
   "outputs": [],
   "source": [
    "df_yearly.write.csv(\n",
    "    f\"{DATASET_FOLDER}../projection_preciptation_yearly_merged-2020-12-02\", header=True\n",
    ")"
   ]
  },
  {
   "cell_type": "code",
   "execution_count": 40,
   "metadata": {},
   "outputs": [],
   "source": [
    "df_monthly.write.csv(\n",
    "    f\"{DATASET_FOLDER}../projection_preciptation_monthly_merged-2020-12-02\", header=True\n",
    ")"
   ]
  },
  {
   "cell_type": "code",
   "execution_count": 41,
   "metadata": {},
   "outputs": [],
   "source": [
    "import glob\n",
    "\n",
    "\n",
    "def spark_merge_with_pandas(folder, outfilename):\n",
    "    df_temp = pd.DataFrame()\n",
    "    for filename in glob.glob(folder + \"/*.csv\"):\n",
    "        df = pd.read_csv(filename)\n",
    "        df_temp = df_temp.append(df)\n",
    "    df_temp.to_csv(outfilename, index=False)\n",
    "    del df_temp\n",
    "\n",
    "\n",
    "spark_merge_with_pandas(\n",
    "    f\"{DATASET_FOLDER}../projection_preciptation_yearly_merged-2020-12-02\",\n",
    "    f\"{DATASET_FOLDER}../projection_preciptation_yearly_merged-2020-12-02.csv\",\n",
    ")\n",
    "spark_merge_with_pandas(\n",
    "    f\"{DATASET_FOLDER}../projection_preciptation_monthly_merged-2020-12-02\",\n",
    "    f\"{DATASET_FOLDER}../projection_preciptation_monthly_merged-2020-12-02.csv\",\n",
    ")"
   ]
  },
  {
   "cell_type": "markdown",
   "metadata": {},
   "source": [
    "## Check"
   ]
  },
  {
   "cell_type": "code",
   "execution_count": 26,
   "metadata": {},
   "outputs": [
    {
     "name": "stdout",
     "output_type": "stream",
     "text": [
      "+---------+-----+----------+--------------+----+--------------+--------------------------+--------------------------+------------------------------+------------------------------+------------------------------+\n",
      "|     year|month|     model|    statistics|ISO3|projection_rcp|daily_rain_max_25_years_mm|daily_rain_max_10_years_mm|5-day_rain_sum_max_10_years_mm|5-day_rain_sum_max_25_years_mm|largest_month_rain_10_years_mm|\n",
      "+---------+-----+----------+--------------+----+--------------+--------------------------+--------------------------+------------------------------+------------------------------+------------------------------+\n",
      "|2020-2039| null|bcc_csm1_1|Annual Anomaly| FRA|         rcp26|                   1.51429|                   1.26548|                       2.44999|                       2.95582|                       -4.7716|\n",
      "+---------+-----+----------+--------------+----+--------------+--------------------------+--------------------------+------------------------------+------------------------------+------------------------------+\n",
      "\n"
     ]
    }
   ],
   "source": [
    "spark.sql(\n",
    "    \"SELECT * FROM yearly_table WHERE ISO3='FRA' AND year='2020-2039' AND projection_rcp='rcp26' \\\n",
    "AND model='bcc_csm1_1' AND daily_rain_max_25_years_mm IS NOT NULL\"\n",
    ").show(10)"
   ]
  },
  {
   "cell_type": "code",
   "execution_count": 32,
   "metadata": {},
   "outputs": [
    {
     "name": "stdout",
     "output_type": "stream",
     "text": [
      "+---------+-----+----------+-----------+----+--------------+---------------+--------------------------+-------------------------------+-------------------------+------------------------+------------------------+\n",
      "|     year|month|     model| statistics|ISO3|projection_rcp|monthly_prcp_mm|largest_single_day_rain_mm|rain_from_very_wet_days_percent|largest_5-day_rain_sum_mm|nb_days_with_rain_>_50mm|nb_days_with_rain_>_20mm|\n",
      "+---------+-----+----------+-----------+----+--------------+---------------+--------------------------+-------------------------------+-------------------------+------------------------+------------------------+\n",
      "|2020-2039|  6.0|bcc_csm1_1|Jun Average| FRA|         rcp26|       41.56588|                   -0.8905|                         -0.557|                  -2.4796|                    null|                 0.00722|\n",
      "|2020-2039|  9.0|bcc_csm1_1|Sep Average| FRA|         rcp26|      48.931923|                   0.26791|                         -0.743|                  1.41687|                    null|                 0.01564|\n",
      "|2020-2039|  2.0|bcc_csm1_1|Feb Average| FRA|         rcp26|       74.93579|                    0.0939|                        -0.1508|                  -0.8013|                    null|                 -0.0025|\n",
      "|2020-2039|  5.0|bcc_csm1_1|May Average| FRA|         rcp26|       61.88817|                   0.63815|                        0.12366|                  1.84278|                    null|                 0.03325|\n",
      "|2020-2039| 10.0|bcc_csm1_1|Oct Average| FRA|         rcp26|       90.78526|                   0.85383|                        0.54502|                  1.74616|                    null|                  0.0244|\n",
      "|2020-2039|  8.0|bcc_csm1_1|Aug Average| FRA|         rcp26|      34.678112|                   0.93171|                        3.48507|                  2.01737|                    null|    0.060479999999999985|\n",
      "|2020-2039|  4.0|bcc_csm1_1|Apr Average| FRA|         rcp26|       71.24244|                   1.08241|                        2.56674|                  2.74668|                    null|    0.008159999999999999|\n",
      "|2020-2039| 11.0|bcc_csm1_1|Nov Average| FRA|         rcp26|      102.04549|                   -0.2244|                        -4.4088|                  -0.0652|                    null|                 0.03274|\n",
      "|2020-2039|  3.0|bcc_csm1_1|Mar Average| FRA|         rcp26|       75.57285|                   -0.0211|                        -0.3676|      -3.5410000000000004|                    null|                 0.00403|\n",
      "|2020-2039|  1.0|bcc_csm1_1|Jan Average| FRA|         rcp26|       103.5502|                   1.19066|                        3.83886|                  1.29332|                    null|                 -0.0154|\n",
      "+---------+-----+----------+-----------+----+--------------+---------------+--------------------------+-------------------------------+-------------------------+------------------------+------------------------+\n",
      "only showing top 10 rows\n",
      "\n"
     ]
    }
   ],
   "source": [
    "spark.sql(\n",
    "    \"SELECT * FROM monthly_table WHERE ISO3='FRA' AND year='2020-2039' AND projection_rcp='rcp26' \\\n",
    "AND model='bcc_csm1_1'\"\n",
    ").show(10)"
   ]
  },
  {
   "cell_type": "code",
   "execution_count": null,
   "metadata": {},
   "outputs": [],
   "source": []
  },
  {
   "cell_type": "code",
   "execution_count": null,
   "metadata": {},
   "outputs": [],
   "source": []
  },
  {
   "cell_type": "code",
   "execution_count": null,
   "metadata": {},
   "outputs": [],
   "source": []
  },
  {
   "cell_type": "code",
   "execution_count": 42,
   "metadata": {},
   "outputs": [
    {
     "name": "stdout",
     "output_type": "stream",
     "text": [
      "+---------+-----+----------+--------------+----+--------------+--------------------------+--------------------------+------------------------------+------------------------------+------------------------------+\n",
      "|     year|month|     model|    statistics|ISO3|projection_rcp|daily_rain_max_25_years_mm|daily_rain_max_10_years_mm|5-day_rain_sum_max_10_years_mm|5-day_rain_sum_max_25_years_mm|largest_month_rain_10_years_mm|\n",
      "+---------+-----+----------+--------------+----+--------------+--------------------------+--------------------------+------------------------------+------------------------------+------------------------------+\n",
      "|2020-2039| null|bcc_csm1_1|Annual Anomaly| FRA|         rcp26|                   1.51429|                   1.26548|                       2.44999|                       2.95582|                       -4.7716|\n",
      "+---------+-----+----------+--------------+----+--------------+--------------------------+--------------------------+------------------------------+------------------------------+------------------------------+\n",
      "\n"
     ]
    }
   ],
   "source": [
    "spark.sql(\n",
    "    \"SELECT * FROM yearly_table WHERE ISO3='FRA' AND year='2020-2039' AND projection_rcp='rcp26' \\\n",
    "AND model='bcc_csm1_1' AND daily_rain_max_25_years_mm IS NOT NULL\"\n",
    ").show(10)"
   ]
  },
  {
   "cell_type": "code",
   "execution_count": 44,
   "metadata": {},
   "outputs": [
    {
     "name": "stdout",
     "output_type": "stream",
     "text": [
      "+---------+-----+----------+--------------+----+--------------+--------------------------+--------------------------+------------------------------+------------------------------+------------------------------+\n",
      "|     year|month|     model|    statistics|ISO3|projection_rcp|daily_rain_max_25_years_mm|daily_rain_max_10_years_mm|5-day_rain_sum_max_10_years_mm|5-day_rain_sum_max_25_years_mm|largest_month_rain_10_years_mm|\n",
      "+---------+-----+----------+--------------+----+--------------+--------------------------+--------------------------+------------------------------+------------------------------+------------------------------+\n",
      "|2020-2039| null|bcc_csm1_1|Annual Anomaly| FRA|         rcp26|                   1.51429|                   1.26548|                       2.44999|                       2.95582|                       -4.7716|\n",
      "+---------+-----+----------+--------------+----+--------------+--------------------------+--------------------------+------------------------------+------------------------------+------------------------------+\n",
      "\n"
     ]
    }
   ],
   "source": [
    "spark.sql(\n",
    "    \"SELECT * FROM yearly_table WHERE ISO3='FRA' AND year='2020-2039' AND projection_rcp='rcp26' \\\n",
    "AND model='bcc_csm1_1' AND daily_rain_max_10_years_mm IS NOT NULL\"\n",
    ").show(10)"
   ]
  },
  {
   "cell_type": "code",
   "execution_count": 45,
   "metadata": {},
   "outputs": [
    {
     "name": "stdout",
     "output_type": "stream",
     "text": [
      "+------------------------------+---------+----------+--------------+----+--------------+--------------------------+------------------------+---------------+-------+------------------------------+-------------------------+------------------------+-------------------------------+--------------------------+------------------------------+--------------------------+------------------------------+-----+\n",
      "|5-day_rain_sum_max_25_years_mm|     year|     model|    statistics|ISO3|projection_rcp|daily_rain_max_25_years_mm|nb_days_with_rain_>_50mm|monthly_prcp_mm|Country|5-day_rain_sum_max_10_years_mm|largest_5-day_rain_sum_mm|nb_days_with_rain_>_20mm|rain_from_very_wet_days_percent|daily_rain_max_10_years_mm|largest_month_rain_25_years_mm|largest_single_day_rain_mm|largest_month_rain_10_years_mm|month|\n",
      "+------------------------------+---------+----------+--------------+----+--------------+--------------------------+------------------------+---------------+-------+------------------------------+-------------------------+------------------------+-------------------------------+--------------------------+------------------------------+--------------------------+------------------------------+-----+\n",
      "|                          null|2020-2039|bcc_csm1_1|Annual Anomaly| FRA|         rcp26|                   1.51429|                    null|           null|   null|                          null|                     null|                    null|                           null|                      null|                          null|                      null|                          null| null|\n",
      "+------------------------------+---------+----------+--------------+----+--------------+--------------------------+------------------------+---------------+-------+------------------------------+-------------------------+------------------------+-------------------------------+--------------------------+------------------------------+--------------------------+------------------------------+-----+\n",
      "\n"
     ]
    }
   ],
   "source": [
    "spark.sql(\n",
    "    \"SELECT * FROM future WHERE ISO3='FRA' AND year='2020-2039' AND projection_rcp='rcp26' AND model='bcc_csm1_1' AND daily_rain_max_25_years_mm IS NOT NULL\"\n",
    ").show(10)"
   ]
  },
  {
   "cell_type": "code",
   "execution_count": 47,
   "metadata": {},
   "outputs": [
    {
     "name": "stdout",
     "output_type": "stream",
     "text": [
      "+---------+-----+----------+--------------+----+--------------+--------------------------+--------------------------+------------------------------+------------------------------+------------------------------+\n",
      "|     year|month|     model|    statistics|ISO3|projection_rcp|daily_rain_max_25_years_mm|daily_rain_max_10_years_mm|5-day_rain_sum_max_10_years_mm|5-day_rain_sum_max_25_years_mm|largest_month_rain_10_years_mm|\n",
      "+---------+-----+----------+--------------+----+--------------+--------------------------+--------------------------+------------------------------+------------------------------+------------------------------+\n",
      "|2020-2039| null|bcc_csm1_1|Annual Anomaly| FRA|         rcp26|                   1.51429|                   1.26548|                       2.44999|                       2.95582|                       -4.7716|\n",
      "+---------+-----+----------+--------------+----+--------------+--------------------------+--------------------------+------------------------------+------------------------------+------------------------------+\n",
      "\n"
     ]
    }
   ],
   "source": [
    "spark.sql(\n",
    "    \"SELECT * FROM yearly_table WHERE ISO3='FRA' AND projection_rcp='rcp26' \\\n",
    "AND model='bcc_csm1_1' AND year='2020-2039'\"\n",
    ").show(8)"
   ]
  },
  {
   "cell_type": "code",
   "execution_count": null,
   "metadata": {},
   "outputs": [],
   "source": [
    "for feature in monthly_features:\n",
    "    print(feature)\n",
    "    spark.sql(\n",
    "        \"SELECT DISTINCT statistics FROM future WHERE `\" + feature + \"` IS NOT NULL\"\n",
    "    ).show(3)"
   ]
  },
  {
   "cell_type": "code",
   "execution_count": 48,
   "metadata": {},
   "outputs": [
    {
     "name": "stdout",
     "output_type": "stream",
     "text": [
      "+---------+-----+--------------------+--------------+----+--------------+--------------------------+--------------------------+------------------------------+------------------------------+------------------------------+\n",
      "|     year|month|               model|    statistics|ISO3|projection_rcp|daily_rain_max_25_years_mm|daily_rain_max_10_years_mm|5-day_rain_sum_max_10_years_mm|5-day_rain_sum_max_25_years_mm|largest_month_rain_10_years_mm|\n",
      "+---------+-----+--------------------+--------------+----+--------------+--------------------------+--------------------------+------------------------------+------------------------------+------------------------------+\n",
      "|2020-2039| null|Ensemble (10th Pe...|Annual Anomaly| DMA|         rcp60|                   -25.177|                   -17.202|                        -46.34|                       -64.286|                       -124.63|\n",
      "|2020-2039| null|Ensemble (10th Pe...|Annual Anomaly| ISL|         rcp45|                   -6.9602|                   -6.1156|                       -16.974|                       -19.356|                       -43.792|\n",
      "|2020-2039| null|Ensemble (10th Pe...|Annual Anomaly| JAM|         rcp45|                   -31.574|                   -21.629|                       -58.494|                       -84.126|                       -162.05|\n",
      "+---------+-----+--------------------+--------------+----+--------------+--------------------------+--------------------------+------------------------------+------------------------------+------------------------------+\n",
      "only showing top 3 rows\n",
      "\n"
     ]
    }
   ],
   "source": [
    "spark.sql(\n",
    "    \"SELECT * FROM yearly_table WHERE year='2020-2039' AND statistics='Annual Anomaly'\"\n",
    ").show(3)"
   ]
  },
  {
   "cell_type": "code",
   "execution_count": 36,
   "metadata": {},
   "outputs": [
    {
     "data": {
      "text/plain": [
       "OMN    392\n",
       "IDN    392\n",
       "BRB    392\n",
       "CHE    392\n",
       "EST    392\n",
       "      ... \n",
       "FRA    392\n",
       "MOZ    392\n",
       "TCD    392\n",
       "PER    392\n",
       "ERI    311\n",
       "Name: ISO3, Length: 195, dtype: int64"
      ]
     },
     "execution_count": 36,
     "metadata": {},
     "output_type": "execute_result"
    }
   ],
   "source": [
    "df_yearly.toPandas().ISO3.value_counts()"
   ]
  },
  {
   "cell_type": "code",
   "execution_count": 49,
   "metadata": {},
   "outputs": [],
   "source": [
    "sc.stop()"
   ]
  },
  {
   "cell_type": "code",
   "execution_count": null,
   "metadata": {},
   "outputs": [],
   "source": []
  }
 ],
 "metadata": {
  "kernelspec": {
   "display_name": "pySpark",
   "language": "python",
   "name": "pyspark"
  },
  "language_info": {
   "codemirror_mode": {
    "name": "ipython",
    "version": 3
   },
   "file_extension": ".py",
   "mimetype": "text/x-python",
   "name": "python",
   "nbconvert_exporter": "python",
   "pygments_lexer": "ipython3",
   "version": "3.8.6"
  }
 },
 "nbformat": 4,
 "nbformat_minor": 4
}
