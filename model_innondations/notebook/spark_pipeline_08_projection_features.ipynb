{
 "cells": [
  {
   "cell_type": "markdown",
   "metadata": {},
   "source": [
    "# Build features for projection"
   ]
  },
  {
   "cell_type": "code",
   "execution_count": 1,
   "metadata": {},
   "outputs": [],
   "source": [
    "# For multiple output per cell\n",
    "from IPython.core.interactiveshell import InteractiveShell\n",
    "\n",
    "InteractiveShell.ast_node_interactivity = \"all\""
   ]
  },
  {
   "cell_type": "code",
   "execution_count": 2,
   "metadata": {},
   "outputs": [],
   "source": [
    "# DATASET_FOLDER = '/media/data-nvme/dev/datasets/WorldBank/'\n",
    "DATASET_FOLDER = \"../../datasets/\"\n",
    "\n",
    "SPARK_MASTER = \"spark://192.168.0.9:7077\"\n",
    "APP_NAME = \"Build features for projection\"\n",
    "input_folder = DATASET_FOLDER\n",
    "output = DATASET_FOLDER + \"../wb_gkp_precipitation\""
   ]
  },
  {
   "cell_type": "code",
   "execution_count": 3,
   "metadata": {},
   "outputs": [],
   "source": [
    "import pandas as pd"
   ]
  },
  {
   "cell_type": "code",
   "execution_count": 66,
   "metadata": {},
   "outputs": [
    {
     "data": {
      "text/html": [
       "<div>\n",
       "<style scoped>\n",
       "    .dataframe tbody tr th:only-of-type {\n",
       "        vertical-align: middle;\n",
       "    }\n",
       "\n",
       "    .dataframe tbody tr th {\n",
       "        vertical-align: top;\n",
       "    }\n",
       "\n",
       "    .dataframe thead th {\n",
       "        text-align: right;\n",
       "    }\n",
       "</style>\n",
       "<table border=\"1\" class=\"dataframe\">\n",
       "  <thead>\n",
       "    <tr style=\"text-align: right;\">\n",
       "      <th></th>\n",
       "      <th>year</th>\n",
       "      <th>month</th>\n",
       "      <th>model</th>\n",
       "      <th>statistics</th>\n",
       "      <th>ISO3</th>\n",
       "      <th>projection_rcp</th>\n",
       "      <th>daily_rain_max_25_years_mm</th>\n",
       "      <th>daily_rain_max_10_years_mm</th>\n",
       "      <th>5-day_rain_sum_max_10_years_mm</th>\n",
       "      <th>5-day_rain_sum_max_25_years_mm</th>\n",
       "      <th>largest_month_rain_10_years_mm</th>\n",
       "      <th>largest_month_rain_25_years_mm</th>\n",
       "    </tr>\n",
       "  </thead>\n",
       "  <tbody>\n",
       "    <tr>\n",
       "      <th>0</th>\n",
       "      <td>2020-2039</td>\n",
       "      <td>NaN</td>\n",
       "      <td>Ensemble (10th Percentile)</td>\n",
       "      <td>Annual Anomaly</td>\n",
       "      <td>ARG</td>\n",
       "      <td>rcp60</td>\n",
       "      <td>-19.541</td>\n",
       "      <td>-16.471</td>\n",
       "      <td>-31.162</td>\n",
       "      <td>-36.832</td>\n",
       "      <td>-84.802</td>\n",
       "      <td>-103.96</td>\n",
       "    </tr>\n",
       "  </tbody>\n",
       "</table>\n",
       "</div>"
      ],
      "text/plain": [
       "        year  month                       model      statistics ISO3  \\\n",
       "0  2020-2039    NaN  Ensemble (10th Percentile)  Annual Anomaly  ARG   \n",
       "\n",
       "  projection_rcp  daily_rain_max_25_years_mm  daily_rain_max_10_years_mm  \\\n",
       "0          rcp60                     -19.541                     -16.471   \n",
       "\n",
       "   5-day_rain_sum_max_10_years_mm  5-day_rain_sum_max_25_years_mm  \\\n",
       "0                         -31.162                         -36.832   \n",
       "\n",
       "   largest_month_rain_10_years_mm  largest_month_rain_25_years_mm  \n",
       "0                         -84.802                         -103.96  "
      ]
     },
     "execution_count": 66,
     "metadata": {},
     "output_type": "execute_result"
    }
   ],
   "source": [
    "df = pd.read_csv(\n",
    "    f\"{DATASET_FOLDER}projection_preciptation_yearly_merged-2020-12-02.csv.gz\"\n",
    ")\n",
    "df.head(1)"
   ]
  },
  {
   "cell_type": "markdown",
   "metadata": {},
   "source": [
    "### Keep ony one climate model"
   ]
  },
  {
   "cell_type": "code",
   "execution_count": 67,
   "metadata": {},
   "outputs": [],
   "source": [
    "# df.model.unique()"
   ]
  },
  {
   "cell_type": "code",
   "execution_count": 68,
   "metadata": {},
   "outputs": [],
   "source": [
    "df = df[df[\"model\"] == \"ipsl_cm5a_mr\"]"
   ]
  },
  {
   "cell_type": "markdown",
   "metadata": {},
   "source": [
    "### Keep only the minimum features"
   ]
  },
  {
   "cell_type": "code",
   "execution_count": 69,
   "metadata": {},
   "outputs": [],
   "source": [
    "# df.columns"
   ]
  },
  {
   "cell_type": "code",
   "execution_count": 70,
   "metadata": {},
   "outputs": [],
   "source": [
    "df = df[\n",
    "    [\n",
    "        \"year\",\n",
    "        \"ISO3\",\n",
    "        \"projection_rcp\",\n",
    "        \"5-day_rain_sum_max_10_years_mm\",\n",
    "        \"5-day_rain_sum_max_25_years_mm\",\n",
    "    ]\n",
    "]"
   ]
  },
  {
   "cell_type": "code",
   "execution_count": 71,
   "metadata": {},
   "outputs": [],
   "source": [
    "# df.head(3)"
   ]
  },
  {
   "cell_type": "markdown",
   "metadata": {},
   "source": [
    "### Compute rare precipitation events \n",
    "\n",
    "We will compute an occurence of rare precipitation events.\n",
    "\n",
    "- Every random 10 years we will consider that there will be a flood due to rainfall corresponding to the projected Maximum 5-day Rainfall (10-yr RL)\n",
    "- Every random 20 years we will consider that there will be a flood due to rainfall corresponding to the projected Maximum 5-day Rainfall (25-yr RL) 20 and not 25 because we have period of 20 years so it is easier. TODO : compute 25 yr RL"
   ]
  },
  {
   "cell_type": "code",
   "execution_count": 72,
   "metadata": {},
   "outputs": [],
   "source": [
    "df_10y = df[[\"year\", \"ISO3\", \"projection_rcp\", \"5-day_rain_sum_max_10_years_mm\"]]\n",
    "df_25y = df[[\"year\", \"ISO3\", \"projection_rcp\", \"5-day_rain_sum_max_25_years_mm\"]]"
   ]
  },
  {
   "cell_type": "code",
   "execution_count": 73,
   "metadata": {},
   "outputs": [],
   "source": [
    "# df_10y.sort_values(by=['ISO3', 'projection_rcp', 'year']).head(5)"
   ]
  },
  {
   "cell_type": "code",
   "execution_count": 74,
   "metadata": {},
   "outputs": [],
   "source": [
    "def random_year(year):\n",
    "    return int(str(int(year[:3]) + random.randint(0, 1)) + str(random.randint(0, 9)))\n",
    "\n",
    "\n",
    "df_20y_new = df_25y.copy()\n",
    "df_20y_new[\"year\"] = df_25y.year.apply(random_year)\n",
    "df_20y_new = df_20y_new.rename(\n",
    "    columns={\"5-day_rain_sum_max_25_years_mm\": \"rain_anomaly\"}\n",
    ")"
   ]
  },
  {
   "cell_type": "code",
   "execution_count": 77,
   "metadata": {},
   "outputs": [
    {
     "data": {
      "text/html": [
       "<div>\n",
       "<style scoped>\n",
       "    .dataframe tbody tr th:only-of-type {\n",
       "        vertical-align: middle;\n",
       "    }\n",
       "\n",
       "    .dataframe tbody tr th {\n",
       "        vertical-align: top;\n",
       "    }\n",
       "\n",
       "    .dataframe thead th {\n",
       "        text-align: right;\n",
       "    }\n",
       "</style>\n",
       "<table border=\"1\" class=\"dataframe\">\n",
       "  <thead>\n",
       "    <tr style=\"text-align: right;\">\n",
       "      <th></th>\n",
       "      <th>year</th>\n",
       "      <th>ISO3</th>\n",
       "      <th>projection_rcp</th>\n",
       "      <th>5-day_rain_sum_max_25_years_mm</th>\n",
       "    </tr>\n",
       "  </thead>\n",
       "  <tbody>\n",
       "    <tr>\n",
       "      <th>61528</th>\n",
       "      <td>2020-2039</td>\n",
       "      <td>AFG</td>\n",
       "      <td>rcp26</td>\n",
       "      <td>13.5017</td>\n",
       "    </tr>\n",
       "    <tr>\n",
       "      <th>22146</th>\n",
       "      <td>2040-2059</td>\n",
       "      <td>AFG</td>\n",
       "      <td>rcp26</td>\n",
       "      <td>28.9298</td>\n",
       "    </tr>\n",
       "    <tr>\n",
       "      <th>28831</th>\n",
       "      <td>2060-2079</td>\n",
       "      <td>AFG</td>\n",
       "      <td>rcp26</td>\n",
       "      <td>16.2455</td>\n",
       "    </tr>\n",
       "    <tr>\n",
       "      <th>7898</th>\n",
       "      <td>2080-2099</td>\n",
       "      <td>AFG</td>\n",
       "      <td>rcp26</td>\n",
       "      <td>10.1975</td>\n",
       "    </tr>\n",
       "  </tbody>\n",
       "</table>\n",
       "</div>"
      ],
      "text/plain": [
       "            year ISO3 projection_rcp  5-day_rain_sum_max_25_years_mm\n",
       "61528  2020-2039  AFG          rcp26                         13.5017\n",
       "22146  2040-2059  AFG          rcp26                         28.9298\n",
       "28831  2060-2079  AFG          rcp26                         16.2455\n",
       "7898   2080-2099  AFG          rcp26                         10.1975"
      ]
     },
     "execution_count": 77,
     "metadata": {},
     "output_type": "execute_result"
    }
   ],
   "source": [
    "df_25y[(df_25y.projection_rcp == \"rcp26\") & (df_25y.ISO3 == \"AFG\")].sort_values(\n",
    "    by=[\"ISO3\", \"projection_rcp\", \"year\"]\n",
    ").head(15)"
   ]
  },
  {
   "cell_type": "code",
   "execution_count": 75,
   "metadata": {},
   "outputs": [
    {
     "data": {
      "text/html": [
       "<div>\n",
       "<style scoped>\n",
       "    .dataframe tbody tr th:only-of-type {\n",
       "        vertical-align: middle;\n",
       "    }\n",
       "\n",
       "    .dataframe tbody tr th {\n",
       "        vertical-align: top;\n",
       "    }\n",
       "\n",
       "    .dataframe thead th {\n",
       "        text-align: right;\n",
       "    }\n",
       "</style>\n",
       "<table border=\"1\" class=\"dataframe\">\n",
       "  <thead>\n",
       "    <tr style=\"text-align: right;\">\n",
       "      <th></th>\n",
       "      <th>year</th>\n",
       "      <th>ISO3</th>\n",
       "      <th>projection_rcp</th>\n",
       "      <th>rain_anomaly</th>\n",
       "    </tr>\n",
       "  </thead>\n",
       "  <tbody>\n",
       "    <tr>\n",
       "      <th>61528</th>\n",
       "      <td>2038</td>\n",
       "      <td>AFG</td>\n",
       "      <td>rcp26</td>\n",
       "      <td>13.5017</td>\n",
       "    </tr>\n",
       "    <tr>\n",
       "      <th>22146</th>\n",
       "      <td>2053</td>\n",
       "      <td>AFG</td>\n",
       "      <td>rcp26</td>\n",
       "      <td>28.9298</td>\n",
       "    </tr>\n",
       "    <tr>\n",
       "      <th>28831</th>\n",
       "      <td>2075</td>\n",
       "      <td>AFG</td>\n",
       "      <td>rcp26</td>\n",
       "      <td>16.2455</td>\n",
       "    </tr>\n",
       "  </tbody>\n",
       "</table>\n",
       "</div>"
      ],
      "text/plain": [
       "       year ISO3 projection_rcp  rain_anomaly\n",
       "61528  2038  AFG          rcp26       13.5017\n",
       "22146  2053  AFG          rcp26       28.9298\n",
       "28831  2075  AFG          rcp26       16.2455"
      ]
     },
     "execution_count": 75,
     "metadata": {},
     "output_type": "execute_result"
    }
   ],
   "source": [
    "df_20y_new[\n",
    "    (df_20y_new.projection_rcp == \"rcp26\") & (df_20y_new.ISO3 == \"AFG\")\n",
    "].sort_values(by=[\"ISO3\", \"projection_rcp\", \"year\"]).head(3)"
   ]
  },
  {
   "cell_type": "code",
   "execution_count": 76,
   "metadata": {},
   "outputs": [],
   "source": [
    "import random\n",
    "\n",
    "df_10y_new = pd.DataFrame()\n",
    "for i, row in df_10y.iterrows():\n",
    "    # Create an event on the first decade\n",
    "    # Create a random year of the event\n",
    "    year = row[\"year\"][:3] + str(random.randint(0, 9))\n",
    "    # Build the new entry\n",
    "    new_row = {\n",
    "        \"year\": year,\n",
    "        \"ISO3\": row[\"ISO3\"],\n",
    "        \"projection_rcp\": row.projection_rcp,\n",
    "        \"rain_anomaly\": row[\"5-day_rain_sum_max_10_years_mm\"],\n",
    "    }\n",
    "    # Add the entry\n",
    "    df_10y_new = df_10y_new.append(new_row, ignore_index=True)\n",
    "    # Create a second event on the next decade\n",
    "    year = str(int(row[\"year\"][:3]) + 1) + str(random.randint(0, 9))\n",
    "    new_row = {\n",
    "        \"year\": year,\n",
    "        \"ISO3\": row[\"ISO3\"],\n",
    "        \"projection_rcp\": row.projection_rcp,\n",
    "        \"rain_anomaly\": row[\"5-day_rain_sum_max_10_years_mm\"],\n",
    "    }\n",
    "    df_10y_new = df_10y_new.append(new_row, ignore_index=True)\n",
    "# df_10y_new.head(10)"
   ]
  },
  {
   "cell_type": "code",
   "execution_count": 78,
   "metadata": {},
   "outputs": [],
   "source": [
    "# df_20y_new[(df_20y_new.projection_rcp == 'rcp26') & (df_20y_new.ISO3 == 'AFG')].sort_values(by=['ISO3', 'projection_rcp', 'year']).head(15)"
   ]
  },
  {
   "cell_type": "markdown",
   "metadata": {},
   "source": [
    "### Concatenate the 2 DF"
   ]
  },
  {
   "cell_type": "code",
   "execution_count": 138,
   "metadata": {},
   "outputs": [
    {
     "name": "stdout",
     "output_type": "stream",
     "text": [
      "3117 + 6234 = 9351 predictions to make\n"
     ]
    }
   ],
   "source": [
    "df_projection = df_20y_new.append(df_10y_new)\n",
    "print(\n",
    "    len(df_20y_new),\n",
    "    \"+\",\n",
    "    len(df_10y_new),\n",
    "    \"=\",\n",
    "    len(df_projection),\n",
    "    \"predictions to make\",\n",
    ")"
   ]
  },
  {
   "cell_type": "code",
   "execution_count": 139,
   "metadata": {},
   "outputs": [
    {
     "data": {
      "text/html": [
       "<div>\n",
       "<style scoped>\n",
       "    .dataframe tbody tr th:only-of-type {\n",
       "        vertical-align: middle;\n",
       "    }\n",
       "\n",
       "    .dataframe tbody tr th {\n",
       "        vertical-align: top;\n",
       "    }\n",
       "\n",
       "    .dataframe thead th {\n",
       "        text-align: right;\n",
       "    }\n",
       "</style>\n",
       "<table border=\"1\" class=\"dataframe\">\n",
       "  <thead>\n",
       "    <tr style=\"text-align: right;\">\n",
       "      <th></th>\n",
       "      <th>year</th>\n",
       "      <th>ISO3</th>\n",
       "      <th>projection_rcp</th>\n",
       "      <th>rain_anomaly</th>\n",
       "    </tr>\n",
       "  </thead>\n",
       "  <tbody>\n",
       "    <tr>\n",
       "      <th>61528</th>\n",
       "      <td>2038</td>\n",
       "      <td>AFG</td>\n",
       "      <td>rcp26</td>\n",
       "      <td>13.5017</td>\n",
       "    </tr>\n",
       "    <tr>\n",
       "      <th>22146</th>\n",
       "      <td>2053</td>\n",
       "      <td>AFG</td>\n",
       "      <td>rcp26</td>\n",
       "      <td>28.9298</td>\n",
       "    </tr>\n",
       "    <tr>\n",
       "      <th>28831</th>\n",
       "      <td>2075</td>\n",
       "      <td>AFG</td>\n",
       "      <td>rcp26</td>\n",
       "      <td>16.2455</td>\n",
       "    </tr>\n",
       "  </tbody>\n",
       "</table>\n",
       "</div>"
      ],
      "text/plain": [
       "       year ISO3 projection_rcp  rain_anomaly\n",
       "61528  2038  AFG          rcp26       13.5017\n",
       "22146  2053  AFG          rcp26       28.9298\n",
       "28831  2075  AFG          rcp26       16.2455"
      ]
     },
     "execution_count": 139,
     "metadata": {},
     "output_type": "execute_result"
    }
   ],
   "source": [
    "df_projection.sort_values(by=[\"ISO3\", \"projection_rcp\", \"year\"]).head(3)"
   ]
  },
  {
   "cell_type": "code",
   "execution_count": 140,
   "metadata": {},
   "outputs": [
    {
     "data": {
      "text/html": [
       "<div>\n",
       "<style scoped>\n",
       "    .dataframe tbody tr th:only-of-type {\n",
       "        vertical-align: middle;\n",
       "    }\n",
       "\n",
       "    .dataframe tbody tr th {\n",
       "        vertical-align: top;\n",
       "    }\n",
       "\n",
       "    .dataframe thead th {\n",
       "        text-align: right;\n",
       "    }\n",
       "</style>\n",
       "<table border=\"1\" class=\"dataframe\">\n",
       "  <thead>\n",
       "    <tr style=\"text-align: right;\">\n",
       "      <th></th>\n",
       "      <th>year</th>\n",
       "      <th>ISO3</th>\n",
       "      <th>projection_rcp</th>\n",
       "      <th>rain_anomaly</th>\n",
       "    </tr>\n",
       "  </thead>\n",
       "  <tbody>\n",
       "    <tr>\n",
       "      <th>10978</th>\n",
       "      <td>2089</td>\n",
       "      <td>EST</td>\n",
       "      <td>rcp85</td>\n",
       "      <td>NaN</td>\n",
       "    </tr>\n",
       "    <tr>\n",
       "      <th>29600</th>\n",
       "      <td>2077</td>\n",
       "      <td>ERI</td>\n",
       "      <td>rcp60</td>\n",
       "      <td>NaN</td>\n",
       "    </tr>\n",
       "    <tr>\n",
       "      <th>50627</th>\n",
       "      <td>2044</td>\n",
       "      <td>EST</td>\n",
       "      <td>rcp45</td>\n",
       "      <td>NaN</td>\n",
       "    </tr>\n",
       "    <tr>\n",
       "      <th>72</th>\n",
       "      <td>2024</td>\n",
       "      <td>COD</td>\n",
       "      <td>rcp85</td>\n",
       "      <td>NaN</td>\n",
       "    </tr>\n",
       "    <tr>\n",
       "      <th>73</th>\n",
       "      <td>2039</td>\n",
       "      <td>COD</td>\n",
       "      <td>rcp85</td>\n",
       "      <td>NaN</td>\n",
       "    </tr>\n",
       "    <tr>\n",
       "      <th>...</th>\n",
       "      <td>...</td>\n",
       "      <td>...</td>\n",
       "      <td>...</td>\n",
       "      <td>...</td>\n",
       "    </tr>\n",
       "    <tr>\n",
       "      <th>5777</th>\n",
       "      <td>2099</td>\n",
       "      <td>ROU</td>\n",
       "      <td>rcp85</td>\n",
       "      <td>NaN</td>\n",
       "    </tr>\n",
       "    <tr>\n",
       "      <th>5894</th>\n",
       "      <td>2064</td>\n",
       "      <td>SSD</td>\n",
       "      <td>rcp45</td>\n",
       "      <td>NaN</td>\n",
       "    </tr>\n",
       "    <tr>\n",
       "      <th>5895</th>\n",
       "      <td>2077</td>\n",
       "      <td>SSD</td>\n",
       "      <td>rcp45</td>\n",
       "      <td>NaN</td>\n",
       "    </tr>\n",
       "    <tr>\n",
       "      <th>6214</th>\n",
       "      <td>2064</td>\n",
       "      <td>COD</td>\n",
       "      <td>rcp45</td>\n",
       "      <td>NaN</td>\n",
       "    </tr>\n",
       "    <tr>\n",
       "      <th>6215</th>\n",
       "      <td>2076</td>\n",
       "      <td>COD</td>\n",
       "      <td>rcp45</td>\n",
       "      <td>NaN</td>\n",
       "    </tr>\n",
       "  </tbody>\n",
       "</table>\n",
       "<p>101 rows × 4 columns</p>\n",
       "</div>"
      ],
      "text/plain": [
       "       year ISO3 projection_rcp  rain_anomaly\n",
       "10978  2089  EST          rcp85           NaN\n",
       "29600  2077  ERI          rcp60           NaN\n",
       "50627  2044  EST          rcp45           NaN\n",
       "72     2024  COD          rcp85           NaN\n",
       "73     2039  COD          rcp85           NaN\n",
       "...     ...  ...            ...           ...\n",
       "5777   2099  ROU          rcp85           NaN\n",
       "5894   2064  SSD          rcp45           NaN\n",
       "5895   2077  SSD          rcp45           NaN\n",
       "6214   2064  COD          rcp45           NaN\n",
       "6215   2076  COD          rcp45           NaN\n",
       "\n",
       "[101 rows x 4 columns]"
      ]
     },
     "execution_count": 140,
     "metadata": {},
     "output_type": "execute_result"
    }
   ],
   "source": [
    "df_projection[df_projection.rain_anomaly.isna()]"
   ]
  },
  {
   "cell_type": "code",
   "execution_count": 145,
   "metadata": {},
   "outputs": [],
   "source": [
    "df_projection.dropna(inplace=True)"
   ]
  },
  {
   "cell_type": "code",
   "execution_count": 146,
   "metadata": {},
   "outputs": [
    {
     "data": {
      "text/plain": [
       "array([], dtype=object)"
      ]
     },
     "execution_count": 146,
     "metadata": {},
     "output_type": "execute_result"
    }
   ],
   "source": [
    "df_projection[df_projection.rain_anomaly.isna()].ISO3.unique()"
   ]
  },
  {
   "cell_type": "markdown",
   "metadata": {},
   "source": [
    "# Compute the normal rainfall value"
   ]
  },
  {
   "cell_type": "code",
   "execution_count": 147,
   "metadata": {},
   "outputs": [
    {
     "data": {
      "text/html": [
       "<div>\n",
       "<style scoped>\n",
       "    .dataframe tbody tr th:only-of-type {\n",
       "        vertical-align: middle;\n",
       "    }\n",
       "\n",
       "    .dataframe tbody tr th {\n",
       "        vertical-align: top;\n",
       "    }\n",
       "\n",
       "    .dataframe thead th {\n",
       "        text-align: right;\n",
       "    }\n",
       "</style>\n",
       "<table border=\"1\" class=\"dataframe\">\n",
       "  <thead>\n",
       "    <tr style=\"text-align: right;\">\n",
       "      <th></th>\n",
       "      <th>Rainfall - (MM)</th>\n",
       "      <th>Year</th>\n",
       "      <th>Statistics</th>\n",
       "      <th>Country</th>\n",
       "      <th>ISO3</th>\n",
       "      <th>Month</th>\n",
       "    </tr>\n",
       "  </thead>\n",
       "  <tbody>\n",
       "    <tr>\n",
       "      <th>0</th>\n",
       "      <td>73.9679</td>\n",
       "      <td>1901</td>\n",
       "      <td>Jan Average</td>\n",
       "      <td>Liechtenstein</td>\n",
       "      <td>LIE</td>\n",
       "      <td>1</td>\n",
       "    </tr>\n",
       "  </tbody>\n",
       "</table>\n",
       "</div>"
      ],
      "text/plain": [
       "   Rainfall - (MM)  Year   Statistics        Country ISO3  Month\n",
       "0          73.9679  1901  Jan Average  Liechtenstein  LIE      1"
      ]
     },
     "execution_count": 147,
     "metadata": {},
     "output_type": "execute_result"
    }
   ],
   "source": [
    "df_hist = pd.read_csv(f\"{DATASET_FOLDER}historical_precipitation_clean_2020-12-02.csv\")\n",
    "df_hist.head(1)"
   ]
  },
  {
   "cell_type": "code",
   "execution_count": 148,
   "metadata": {},
   "outputs": [],
   "source": [
    "df_tmp = df_hist.query(\"(Year >= 1986) and (Year <= 2005)\")"
   ]
  },
  {
   "cell_type": "code",
   "execution_count": 149,
   "metadata": {},
   "outputs": [],
   "source": [
    "df_tmp = df_tmp[[\"ISO3\", \"Rainfall - (MM)\"]]\n",
    "# Group by country, compute mean\n",
    "# len(df_tmp)\n",
    "df_hist_normal = df_tmp.groupby([\"ISO3\"]).mean()\n",
    "# df_hist_normal.columns = ['ISO3', 'avg_rain']\n",
    "df_hist_normal = df_hist_normal.rename(\n",
    "    columns={\"Rainfall - (MM)\": \"avg_hist_rain\"}\n",
    ").reset_index()"
   ]
  },
  {
   "cell_type": "code",
   "execution_count": 150,
   "metadata": {},
   "outputs": [
    {
     "data": {
      "text/html": [
       "<div>\n",
       "<style scoped>\n",
       "    .dataframe tbody tr th:only-of-type {\n",
       "        vertical-align: middle;\n",
       "    }\n",
       "\n",
       "    .dataframe tbody tr th {\n",
       "        vertical-align: top;\n",
       "    }\n",
       "\n",
       "    .dataframe thead th {\n",
       "        text-align: right;\n",
       "    }\n",
       "</style>\n",
       "<table border=\"1\" class=\"dataframe\">\n",
       "  <thead>\n",
       "    <tr style=\"text-align: right;\">\n",
       "      <th></th>\n",
       "      <th>ISO3</th>\n",
       "      <th>avg_hist_rain</th>\n",
       "    </tr>\n",
       "  </thead>\n",
       "  <tbody>\n",
       "    <tr>\n",
       "      <th>0</th>\n",
       "      <td>AFG</td>\n",
       "      <td>26.572291</td>\n",
       "    </tr>\n",
       "    <tr>\n",
       "      <th>1</th>\n",
       "      <td>AGO</td>\n",
       "      <td>79.961934</td>\n",
       "    </tr>\n",
       "  </tbody>\n",
       "</table>\n",
       "</div>"
      ],
      "text/plain": [
       "  ISO3  avg_hist_rain\n",
       "0  AFG      26.572291\n",
       "1  AGO      79.961934"
      ]
     },
     "execution_count": 150,
     "metadata": {},
     "output_type": "execute_result"
    }
   ],
   "source": [
    "df_hist_normal.head(2)"
   ]
  },
  {
   "cell_type": "code",
   "execution_count": 151,
   "metadata": {},
   "outputs": [
    {
     "data": {
      "text/html": [
       "<div>\n",
       "<style scoped>\n",
       "    .dataframe tbody tr th:only-of-type {\n",
       "        vertical-align: middle;\n",
       "    }\n",
       "\n",
       "    .dataframe tbody tr th {\n",
       "        vertical-align: top;\n",
       "    }\n",
       "\n",
       "    .dataframe thead th {\n",
       "        text-align: right;\n",
       "    }\n",
       "</style>\n",
       "<table border=\"1\" class=\"dataframe\">\n",
       "  <thead>\n",
       "    <tr style=\"text-align: right;\">\n",
       "      <th></th>\n",
       "      <th>ISO3</th>\n",
       "      <th>avg_hist_rain</th>\n",
       "    </tr>\n",
       "  </thead>\n",
       "  <tbody>\n",
       "  </tbody>\n",
       "</table>\n",
       "</div>"
      ],
      "text/plain": [
       "Empty DataFrame\n",
       "Columns: [ISO3, avg_hist_rain]\n",
       "Index: []"
      ]
     },
     "execution_count": 151,
     "metadata": {},
     "output_type": "execute_result"
    }
   ],
   "source": [
    "df_hist_normal[df_hist_normal.isna().any(axis=1)]"
   ]
  },
  {
   "cell_type": "markdown",
   "metadata": {},
   "source": [
    "## Merge with projection"
   ]
  },
  {
   "cell_type": "code",
   "execution_count": 152,
   "metadata": {},
   "outputs": [
    {
     "data": {
      "text/html": [
       "<div>\n",
       "<style scoped>\n",
       "    .dataframe tbody tr th:only-of-type {\n",
       "        vertical-align: middle;\n",
       "    }\n",
       "\n",
       "    .dataframe tbody tr th {\n",
       "        vertical-align: top;\n",
       "    }\n",
       "\n",
       "    .dataframe thead th {\n",
       "        text-align: right;\n",
       "    }\n",
       "</style>\n",
       "<table border=\"1\" class=\"dataframe\">\n",
       "  <thead>\n",
       "    <tr style=\"text-align: right;\">\n",
       "      <th></th>\n",
       "      <th>year</th>\n",
       "      <th>ISO3</th>\n",
       "      <th>projection_rcp</th>\n",
       "      <th>rain_anomaly</th>\n",
       "      <th>avg_hist_rain</th>\n",
       "      <th>est_max_rain</th>\n",
       "    </tr>\n",
       "  </thead>\n",
       "  <tbody>\n",
       "    <tr>\n",
       "      <th>69</th>\n",
       "      <td>2031</td>\n",
       "      <td>JOR</td>\n",
       "      <td>rcp26</td>\n",
       "      <td>-9.74730</td>\n",
       "      <td>9.007923</td>\n",
       "      <td>-0.739377</td>\n",
       "    </tr>\n",
       "    <tr>\n",
       "      <th>5235</th>\n",
       "      <td>2081</td>\n",
       "      <td>JOR</td>\n",
       "      <td>rcp26</td>\n",
       "      <td>-10.25700</td>\n",
       "      <td>9.007923</td>\n",
       "      <td>-1.249077</td>\n",
       "    </tr>\n",
       "    <tr>\n",
       "      <th>12682</th>\n",
       "      <td>2059</td>\n",
       "      <td>JOR</td>\n",
       "      <td>rcp60</td>\n",
       "      <td>-3.76900</td>\n",
       "      <td>9.007923</td>\n",
       "      <td>5.238923</td>\n",
       "    </tr>\n",
       "    <tr>\n",
       "      <th>17343</th>\n",
       "      <td>2072</td>\n",
       "      <td>JOR</td>\n",
       "      <td>rcp26</td>\n",
       "      <td>0.57577</td>\n",
       "      <td>9.007923</td>\n",
       "      <td>9.583693</td>\n",
       "    </tr>\n",
       "    <tr>\n",
       "      <th>22328</th>\n",
       "      <td>2096</td>\n",
       "      <td>JOR</td>\n",
       "      <td>rcp45</td>\n",
       "      <td>-3.55980</td>\n",
       "      <td>9.007923</td>\n",
       "      <td>5.448123</td>\n",
       "    </tr>\n",
       "    <tr>\n",
       "      <th>...</th>\n",
       "      <td>...</td>\n",
       "      <td>...</td>\n",
       "      <td>...</td>\n",
       "      <td>...</td>\n",
       "      <td>...</td>\n",
       "      <td>...</td>\n",
       "    </tr>\n",
       "    <tr>\n",
       "      <th>5947</th>\n",
       "      <td>2053</td>\n",
       "      <td>CZE</td>\n",
       "      <td>rcp60</td>\n",
       "      <td>10.40800</td>\n",
       "      <td>55.081412</td>\n",
       "      <td>65.489412</td>\n",
       "    </tr>\n",
       "    <tr>\n",
       "      <th>6056</th>\n",
       "      <td>2064</td>\n",
       "      <td>CZE</td>\n",
       "      <td>rcp85</td>\n",
       "      <td>2.48093</td>\n",
       "      <td>55.081412</td>\n",
       "      <td>57.562342</td>\n",
       "    </tr>\n",
       "    <tr>\n",
       "      <th>6057</th>\n",
       "      <td>2073</td>\n",
       "      <td>CZE</td>\n",
       "      <td>rcp85</td>\n",
       "      <td>2.48093</td>\n",
       "      <td>55.081412</td>\n",
       "      <td>57.562342</td>\n",
       "    </tr>\n",
       "    <tr>\n",
       "      <th>6216</th>\n",
       "      <td>2063</td>\n",
       "      <td>CZE</td>\n",
       "      <td>rcp60</td>\n",
       "      <td>10.00710</td>\n",
       "      <td>55.081412</td>\n",
       "      <td>65.088512</td>\n",
       "    </tr>\n",
       "    <tr>\n",
       "      <th>6217</th>\n",
       "      <td>2072</td>\n",
       "      <td>CZE</td>\n",
       "      <td>rcp60</td>\n",
       "      <td>10.00710</td>\n",
       "      <td>55.081412</td>\n",
       "      <td>65.088512</td>\n",
       "    </tr>\n",
       "  </tbody>\n",
       "</table>\n",
       "<p>9202 rows × 6 columns</p>\n",
       "</div>"
      ],
      "text/plain": [
       "       year ISO3 projection_rcp  rain_anomaly  avg_hist_rain  est_max_rain\n",
       "69     2031  JOR          rcp26      -9.74730       9.007923     -0.739377\n",
       "5235   2081  JOR          rcp26     -10.25700       9.007923     -1.249077\n",
       "12682  2059  JOR          rcp60      -3.76900       9.007923      5.238923\n",
       "17343  2072  JOR          rcp26       0.57577       9.007923      9.583693\n",
       "22328  2096  JOR          rcp45      -3.55980       9.007923      5.448123\n",
       "...     ...  ...            ...           ...            ...           ...\n",
       "5947   2053  CZE          rcp60      10.40800      55.081412     65.489412\n",
       "6056   2064  CZE          rcp85       2.48093      55.081412     57.562342\n",
       "6057   2073  CZE          rcp85       2.48093      55.081412     57.562342\n",
       "6216   2063  CZE          rcp60      10.00710      55.081412     65.088512\n",
       "6217   2072  CZE          rcp60      10.00710      55.081412     65.088512\n",
       "\n",
       "[9202 rows x 6 columns]"
      ]
     },
     "execution_count": 152,
     "metadata": {},
     "output_type": "execute_result"
    }
   ],
   "source": [
    "df_projection_merged = df_projection.join(\n",
    "    df_hist_normal.set_index(\"ISO3\"), on=\"ISO3\", how=\"inner\"\n",
    ")\n",
    "df_projection_merged[\"est_max_rain\"] = (\n",
    "    df_projection_merged[\"rain_anomaly\"] + df_projection_merged[\"avg_hist_rain\"]\n",
    ")\n",
    "df_projection_merged"
   ]
  },
  {
   "cell_type": "code",
   "execution_count": 153,
   "metadata": {},
   "outputs": [
    {
     "data": {
      "text/plain": [
       "array([], dtype=object)"
      ]
     },
     "execution_count": 153,
     "metadata": {},
     "output_type": "execute_result"
    }
   ],
   "source": [
    "df_projection_merged[df_projection_merged.isna().any(axis=1)].ISO3.unique()"
   ]
  },
  {
   "cell_type": "code",
   "execution_count": 154,
   "metadata": {},
   "outputs": [
    {
     "data": {
      "text/html": [
       "<div>\n",
       "<style scoped>\n",
       "    .dataframe tbody tr th:only-of-type {\n",
       "        vertical-align: middle;\n",
       "    }\n",
       "\n",
       "    .dataframe tbody tr th {\n",
       "        vertical-align: top;\n",
       "    }\n",
       "\n",
       "    .dataframe thead th {\n",
       "        text-align: right;\n",
       "    }\n",
       "</style>\n",
       "<table border=\"1\" class=\"dataframe\">\n",
       "  <thead>\n",
       "    <tr style=\"text-align: right;\">\n",
       "      <th></th>\n",
       "      <th>year</th>\n",
       "      <th>ISO3</th>\n",
       "      <th>projection_rcp</th>\n",
       "      <th>rain_anomaly</th>\n",
       "      <th>avg_hist_rain</th>\n",
       "      <th>est_max_rain</th>\n",
       "    </tr>\n",
       "  </thead>\n",
       "  <tbody>\n",
       "  </tbody>\n",
       "</table>\n",
       "</div>"
      ],
      "text/plain": [
       "Empty DataFrame\n",
       "Columns: [year, ISO3, projection_rcp, rain_anomaly, avg_hist_rain, est_max_rain]\n",
       "Index: []"
      ]
     },
     "execution_count": 154,
     "metadata": {},
     "output_type": "execute_result"
    }
   ],
   "source": [
    "df_projection_merged[df_projection_merged.rain_anomaly.isna()]"
   ]
  },
  {
   "cell_type": "code",
   "execution_count": 157,
   "metadata": {},
   "outputs": [
    {
     "data": {
      "text/html": [
       "<div>\n",
       "<style scoped>\n",
       "    .dataframe tbody tr th:only-of-type {\n",
       "        vertical-align: middle;\n",
       "    }\n",
       "\n",
       "    .dataframe tbody tr th {\n",
       "        vertical-align: top;\n",
       "    }\n",
       "\n",
       "    .dataframe thead th {\n",
       "        text-align: right;\n",
       "    }\n",
       "</style>\n",
       "<table border=\"1\" class=\"dataframe\">\n",
       "  <thead>\n",
       "    <tr style=\"text-align: right;\">\n",
       "      <th></th>\n",
       "      <th>year</th>\n",
       "      <th>ISO3</th>\n",
       "      <th>projection_rcp</th>\n",
       "      <th>rain_anomaly</th>\n",
       "      <th>avg_hist_rain</th>\n",
       "      <th>est_max_rain</th>\n",
       "    </tr>\n",
       "  </thead>\n",
       "  <tbody>\n",
       "    <tr>\n",
       "      <th>55069</th>\n",
       "      <td>2091</td>\n",
       "      <td>BDI</td>\n",
       "      <td>rcp85</td>\n",
       "      <td>571.248</td>\n",
       "      <td>100.686849</td>\n",
       "      <td>671.934849</td>\n",
       "    </tr>\n",
       "    <tr>\n",
       "      <th>52565</th>\n",
       "      <td>2063</td>\n",
       "      <td>MDV</td>\n",
       "      <td>rcp85</td>\n",
       "      <td>467.331</td>\n",
       "      <td>197.083333</td>\n",
       "      <td>664.414333</td>\n",
       "    </tr>\n",
       "    <tr>\n",
       "      <th>25677</th>\n",
       "      <td>2070</td>\n",
       "      <td>MDV</td>\n",
       "      <td>rcp60</td>\n",
       "      <td>406.364</td>\n",
       "      <td>197.083333</td>\n",
       "      <td>603.447333</td>\n",
       "    </tr>\n",
       "    <tr>\n",
       "      <th>3315</th>\n",
       "      <td>2096</td>\n",
       "      <td>MDV</td>\n",
       "      <td>rcp85</td>\n",
       "      <td>348.766</td>\n",
       "      <td>197.083333</td>\n",
       "      <td>545.849333</td>\n",
       "    </tr>\n",
       "    <tr>\n",
       "      <th>70656</th>\n",
       "      <td>2093</td>\n",
       "      <td>BRN</td>\n",
       "      <td>rcp45</td>\n",
       "      <td>282.993</td>\n",
       "      <td>258.913422</td>\n",
       "      <td>541.906422</td>\n",
       "    </tr>\n",
       "  </tbody>\n",
       "</table>\n",
       "</div>"
      ],
      "text/plain": [
       "       year ISO3 projection_rcp  rain_anomaly  avg_hist_rain  est_max_rain\n",
       "55069  2091  BDI          rcp85       571.248     100.686849    671.934849\n",
       "52565  2063  MDV          rcp85       467.331     197.083333    664.414333\n",
       "25677  2070  MDV          rcp60       406.364     197.083333    603.447333\n",
       "3315   2096  MDV          rcp85       348.766     197.083333    545.849333\n",
       "70656  2093  BRN          rcp45       282.993     258.913422    541.906422"
      ]
     },
     "execution_count": 157,
     "metadata": {},
     "output_type": "execute_result"
    }
   ],
   "source": [
    "df_projection_merged.sort_values(\n",
    "    by=[\"est_max_rain\", \"projection_rcp\", \"ISO3\", \"year\"], ascending=False\n",
    ").head(5)"
   ]
  },
  {
   "cell_type": "code",
   "execution_count": 158,
   "metadata": {},
   "outputs": [
    {
     "data": {
      "text/html": [
       "<div>\n",
       "<style scoped>\n",
       "    .dataframe tbody tr th:only-of-type {\n",
       "        vertical-align: middle;\n",
       "    }\n",
       "\n",
       "    .dataframe tbody tr th {\n",
       "        vertical-align: top;\n",
       "    }\n",
       "\n",
       "    .dataframe thead th {\n",
       "        text-align: right;\n",
       "    }\n",
       "</style>\n",
       "<table border=\"1\" class=\"dataframe\">\n",
       "  <thead>\n",
       "    <tr style=\"text-align: right;\">\n",
       "      <th></th>\n",
       "      <th>year</th>\n",
       "      <th>ISO3</th>\n",
       "      <th>projection_rcp</th>\n",
       "      <th>rain_anomaly</th>\n",
       "      <th>avg_hist_rain</th>\n",
       "      <th>est_max_rain</th>\n",
       "    </tr>\n",
       "  </thead>\n",
       "  <tbody>\n",
       "    <tr>\n",
       "      <th>36380</th>\n",
       "      <td>2020</td>\n",
       "      <td>DJI</td>\n",
       "      <td>rcp85</td>\n",
       "      <td>-32.7130</td>\n",
       "      <td>21.455127</td>\n",
       "      <td>-11.257873</td>\n",
       "    </tr>\n",
       "    <tr>\n",
       "      <th>65985</th>\n",
       "      <td>2097</td>\n",
       "      <td>EGY</td>\n",
       "      <td>rcp85</td>\n",
       "      <td>-7.3951</td>\n",
       "      <td>2.681223</td>\n",
       "      <td>-4.713877</td>\n",
       "    </tr>\n",
       "    <tr>\n",
       "      <th>48485</th>\n",
       "      <td>2098</td>\n",
       "      <td>JOR</td>\n",
       "      <td>rcp60</td>\n",
       "      <td>-13.2300</td>\n",
       "      <td>9.007923</td>\n",
       "      <td>-4.222077</td>\n",
       "    </tr>\n",
       "    <tr>\n",
       "      <th>26729</th>\n",
       "      <td>2033</td>\n",
       "      <td>EGY</td>\n",
       "      <td>rcp60</td>\n",
       "      <td>-6.2883</td>\n",
       "      <td>2.681223</td>\n",
       "      <td>-3.607077</td>\n",
       "    </tr>\n",
       "    <tr>\n",
       "      <th>6804</th>\n",
       "      <td>2035</td>\n",
       "      <td>EGY</td>\n",
       "      <td>rcp26</td>\n",
       "      <td>-5.7466</td>\n",
       "      <td>2.681223</td>\n",
       "      <td>-3.065377</td>\n",
       "    </tr>\n",
       "  </tbody>\n",
       "</table>\n",
       "</div>"
      ],
      "text/plain": [
       "       year ISO3 projection_rcp  rain_anomaly  avg_hist_rain  est_max_rain\n",
       "36380  2020  DJI          rcp85      -32.7130      21.455127    -11.257873\n",
       "65985  2097  EGY          rcp85       -7.3951       2.681223     -4.713877\n",
       "48485  2098  JOR          rcp60      -13.2300       9.007923     -4.222077\n",
       "26729  2033  EGY          rcp60       -6.2883       2.681223     -3.607077\n",
       "6804   2035  EGY          rcp26       -5.7466       2.681223     -3.065377"
      ]
     },
     "execution_count": 158,
     "metadata": {},
     "output_type": "execute_result"
    }
   ],
   "source": [
    "df_projection_merged.sort_values(\n",
    "    by=[\"est_max_rain\", \"projection_rcp\", \"ISO3\", \"year\"], ascending=True\n",
    ").head(5)"
   ]
  },
  {
   "cell_type": "markdown",
   "metadata": {},
   "source": [
    "## Save"
   ]
  },
  {
   "cell_type": "code",
   "execution_count": 159,
   "metadata": {},
   "outputs": [],
   "source": [
    "outfilename = (\n",
    "    f\"{DATASET_FOLDER}projection_precipitation_for_prediction-2020-12-10.csv.gz\"\n",
    ")\n",
    "df_projection_merged.to_csv(outfilename, index=False, compression=\"gzip\")"
   ]
  },
  {
   "cell_type": "code",
   "execution_count": 160,
   "metadata": {},
   "outputs": [
    {
     "data": {
      "text/html": [
       "<div>\n",
       "<style scoped>\n",
       "    .dataframe tbody tr th:only-of-type {\n",
       "        vertical-align: middle;\n",
       "    }\n",
       "\n",
       "    .dataframe tbody tr th {\n",
       "        vertical-align: top;\n",
       "    }\n",
       "\n",
       "    .dataframe thead th {\n",
       "        text-align: right;\n",
       "    }\n",
       "</style>\n",
       "<table border=\"1\" class=\"dataframe\">\n",
       "  <thead>\n",
       "    <tr style=\"text-align: right;\">\n",
       "      <th></th>\n",
       "      <th>year</th>\n",
       "      <th>ISO3</th>\n",
       "      <th>projection_rcp</th>\n",
       "      <th>rain_anomaly</th>\n",
       "      <th>avg_hist_rain</th>\n",
       "      <th>est_max_rain</th>\n",
       "    </tr>\n",
       "  </thead>\n",
       "  <tbody>\n",
       "    <tr>\n",
       "      <th>0</th>\n",
       "      <td>2031</td>\n",
       "      <td>JOR</td>\n",
       "      <td>rcp26</td>\n",
       "      <td>-9.7473</td>\n",
       "      <td>9.007923</td>\n",
       "      <td>-0.739377</td>\n",
       "    </tr>\n",
       "    <tr>\n",
       "      <th>1</th>\n",
       "      <td>2081</td>\n",
       "      <td>JOR</td>\n",
       "      <td>rcp26</td>\n",
       "      <td>-10.2570</td>\n",
       "      <td>9.007923</td>\n",
       "      <td>-1.249077</td>\n",
       "    </tr>\n",
       "    <tr>\n",
       "      <th>2</th>\n",
       "      <td>2059</td>\n",
       "      <td>JOR</td>\n",
       "      <td>rcp60</td>\n",
       "      <td>-3.7690</td>\n",
       "      <td>9.007923</td>\n",
       "      <td>5.238923</td>\n",
       "    </tr>\n",
       "  </tbody>\n",
       "</table>\n",
       "</div>"
      ],
      "text/plain": [
       "   year ISO3 projection_rcp  rain_anomaly  avg_hist_rain  est_max_rain\n",
       "0  2031  JOR          rcp26       -9.7473       9.007923     -0.739377\n",
       "1  2081  JOR          rcp26      -10.2570       9.007923     -1.249077\n",
       "2  2059  JOR          rcp60       -3.7690       9.007923      5.238923"
      ]
     },
     "execution_count": 160,
     "metadata": {},
     "output_type": "execute_result"
    }
   ],
   "source": [
    "df_tmp = pd.read_csv(outfilename)\n",
    "df_tmp.head(3)"
   ]
  },
  {
   "cell_type": "code",
   "execution_count": 161,
   "metadata": {},
   "outputs": [
    {
     "data": {
      "text/html": [
       "<div>\n",
       "<style scoped>\n",
       "    .dataframe tbody tr th:only-of-type {\n",
       "        vertical-align: middle;\n",
       "    }\n",
       "\n",
       "    .dataframe tbody tr th {\n",
       "        vertical-align: top;\n",
       "    }\n",
       "\n",
       "    .dataframe thead th {\n",
       "        text-align: right;\n",
       "    }\n",
       "</style>\n",
       "<table border=\"1\" class=\"dataframe\">\n",
       "  <thead>\n",
       "    <tr style=\"text-align: right;\">\n",
       "      <th></th>\n",
       "      <th>year</th>\n",
       "      <th>ISO3</th>\n",
       "      <th>projection_rcp</th>\n",
       "      <th>rain_anomaly</th>\n",
       "      <th>avg_hist_rain</th>\n",
       "      <th>est_max_rain</th>\n",
       "    </tr>\n",
       "  </thead>\n",
       "  <tbody>\n",
       "    <tr>\n",
       "      <th>0</th>\n",
       "      <td>2031</td>\n",
       "      <td>JOR</td>\n",
       "      <td>rcp26</td>\n",
       "      <td>-9.74730</td>\n",
       "      <td>9.007923</td>\n",
       "      <td>-0.739377</td>\n",
       "    </tr>\n",
       "    <tr>\n",
       "      <th>1</th>\n",
       "      <td>2081</td>\n",
       "      <td>JOR</td>\n",
       "      <td>rcp26</td>\n",
       "      <td>-10.25700</td>\n",
       "      <td>9.007923</td>\n",
       "      <td>-1.249077</td>\n",
       "    </tr>\n",
       "    <tr>\n",
       "      <th>2</th>\n",
       "      <td>2059</td>\n",
       "      <td>JOR</td>\n",
       "      <td>rcp60</td>\n",
       "      <td>-3.76900</td>\n",
       "      <td>9.007923</td>\n",
       "      <td>5.238923</td>\n",
       "    </tr>\n",
       "    <tr>\n",
       "      <th>3</th>\n",
       "      <td>2072</td>\n",
       "      <td>JOR</td>\n",
       "      <td>rcp26</td>\n",
       "      <td>0.57577</td>\n",
       "      <td>9.007923</td>\n",
       "      <td>9.583693</td>\n",
       "    </tr>\n",
       "    <tr>\n",
       "      <th>4</th>\n",
       "      <td>2096</td>\n",
       "      <td>JOR</td>\n",
       "      <td>rcp45</td>\n",
       "      <td>-3.55980</td>\n",
       "      <td>9.007923</td>\n",
       "      <td>5.448123</td>\n",
       "    </tr>\n",
       "    <tr>\n",
       "      <th>...</th>\n",
       "      <td>...</td>\n",
       "      <td>...</td>\n",
       "      <td>...</td>\n",
       "      <td>...</td>\n",
       "      <td>...</td>\n",
       "      <td>...</td>\n",
       "    </tr>\n",
       "    <tr>\n",
       "      <th>9197</th>\n",
       "      <td>2053</td>\n",
       "      <td>CZE</td>\n",
       "      <td>rcp60</td>\n",
       "      <td>10.40800</td>\n",
       "      <td>55.081412</td>\n",
       "      <td>65.489412</td>\n",
       "    </tr>\n",
       "    <tr>\n",
       "      <th>9198</th>\n",
       "      <td>2064</td>\n",
       "      <td>CZE</td>\n",
       "      <td>rcp85</td>\n",
       "      <td>2.48093</td>\n",
       "      <td>55.081412</td>\n",
       "      <td>57.562342</td>\n",
       "    </tr>\n",
       "    <tr>\n",
       "      <th>9199</th>\n",
       "      <td>2073</td>\n",
       "      <td>CZE</td>\n",
       "      <td>rcp85</td>\n",
       "      <td>2.48093</td>\n",
       "      <td>55.081412</td>\n",
       "      <td>57.562342</td>\n",
       "    </tr>\n",
       "    <tr>\n",
       "      <th>9200</th>\n",
       "      <td>2063</td>\n",
       "      <td>CZE</td>\n",
       "      <td>rcp60</td>\n",
       "      <td>10.00710</td>\n",
       "      <td>55.081412</td>\n",
       "      <td>65.088512</td>\n",
       "    </tr>\n",
       "    <tr>\n",
       "      <th>9201</th>\n",
       "      <td>2072</td>\n",
       "      <td>CZE</td>\n",
       "      <td>rcp60</td>\n",
       "      <td>10.00710</td>\n",
       "      <td>55.081412</td>\n",
       "      <td>65.088512</td>\n",
       "    </tr>\n",
       "  </tbody>\n",
       "</table>\n",
       "<p>9202 rows × 6 columns</p>\n",
       "</div>"
      ],
      "text/plain": [
       "      year ISO3 projection_rcp  rain_anomaly  avg_hist_rain  est_max_rain\n",
       "0     2031  JOR          rcp26      -9.74730       9.007923     -0.739377\n",
       "1     2081  JOR          rcp26     -10.25700       9.007923     -1.249077\n",
       "2     2059  JOR          rcp60      -3.76900       9.007923      5.238923\n",
       "3     2072  JOR          rcp26       0.57577       9.007923      9.583693\n",
       "4     2096  JOR          rcp45      -3.55980       9.007923      5.448123\n",
       "...    ...  ...            ...           ...            ...           ...\n",
       "9197  2053  CZE          rcp60      10.40800      55.081412     65.489412\n",
       "9198  2064  CZE          rcp85       2.48093      55.081412     57.562342\n",
       "9199  2073  CZE          rcp85       2.48093      55.081412     57.562342\n",
       "9200  2063  CZE          rcp60      10.00710      55.081412     65.088512\n",
       "9201  2072  CZE          rcp60      10.00710      55.081412     65.088512\n",
       "\n",
       "[9202 rows x 6 columns]"
      ]
     },
     "execution_count": 161,
     "metadata": {},
     "output_type": "execute_result"
    }
   ],
   "source": [
    "df_tmp"
   ]
  },
  {
   "cell_type": "code",
   "execution_count": 162,
   "metadata": {},
   "outputs": [
    {
     "data": {
      "text/html": [
       "<div>\n",
       "<style scoped>\n",
       "    .dataframe tbody tr th:only-of-type {\n",
       "        vertical-align: middle;\n",
       "    }\n",
       "\n",
       "    .dataframe tbody tr th {\n",
       "        vertical-align: top;\n",
       "    }\n",
       "\n",
       "    .dataframe thead th {\n",
       "        text-align: right;\n",
       "    }\n",
       "</style>\n",
       "<table border=\"1\" class=\"dataframe\">\n",
       "  <thead>\n",
       "    <tr style=\"text-align: right;\">\n",
       "      <th></th>\n",
       "      <th>year</th>\n",
       "      <th>ISO3</th>\n",
       "      <th>projection_rcp</th>\n",
       "      <th>rain_anomaly</th>\n",
       "      <th>avg_hist_rain</th>\n",
       "      <th>est_max_rain</th>\n",
       "    </tr>\n",
       "  </thead>\n",
       "  <tbody>\n",
       "  </tbody>\n",
       "</table>\n",
       "</div>"
      ],
      "text/plain": [
       "Empty DataFrame\n",
       "Columns: [year, ISO3, projection_rcp, rain_anomaly, avg_hist_rain, est_max_rain]\n",
       "Index: []"
      ]
     },
     "execution_count": 162,
     "metadata": {},
     "output_type": "execute_result"
    }
   ],
   "source": [
    "df_tmp[df_tmp.isna().any(axis=1)]"
   ]
  }
 ],
 "metadata": {
  "kernelspec": {
   "display_name": "worldbank",
   "language": "python",
   "name": "worldbank"
  },
  "language_info": {
   "codemirror_mode": {
    "name": "ipython",
    "version": 3
   },
   "file_extension": ".py",
   "mimetype": "text/x-python",
   "name": "python",
   "nbconvert_exporter": "python",
   "pygments_lexer": "ipython3",
   "version": "3.8.6"
  }
 },
 "nbformat": 4,
 "nbformat_minor": 4
}
