{
 "cells": [
  {
   "cell_type": "markdown",
   "metadata": {},
   "source": [
    "# Import libraries"
   ]
  },
  {
   "cell_type": "code",
   "execution_count": 1,
   "metadata": {},
   "outputs": [],
   "source": [
    "import os\n",
    "import pandas as pd\n",
    "from pathlib import Path"
   ]
  },
  {
   "cell_type": "markdown",
   "metadata": {},
   "source": [
    "# Inspect the list of csv in target directory"
   ]
  },
  {
   "cell_type": "code",
   "execution_count": 2,
   "metadata": {},
   "outputs": [],
   "source": [
    "DATASET_FOLDER = '../../datasets/tempetes/Temperature_Historical'"
   ]
  },
  {
   "cell_type": "code",
   "execution_count": 3,
   "metadata": {},
   "outputs": [
    {
     "name": "stdout",
     "output_type": "stream",
     "text": [
      "['historical_temp_clean_AFG.csv', 'historical_temp_clean_AGO.csv', 'historical_temp_clean_AIA.csv', 'historical_temp_clean_ALB.csv', 'historical_temp_clean_ARE.csv', 'historical_temp_clean_ARG.csv', 'historical_temp_clean_ARM.csv', 'historical_temp_clean_ASM.csv', 'historical_temp_clean_AUS.csv', 'historical_temp_clean_AUT.csv', 'historical_temp_clean_AZE.csv', 'historical_temp_clean_BDI.csv', 'historical_temp_clean_BEL.csv', 'historical_temp_clean_BEN.csv', 'historical_temp_clean_BFA.csv', 'historical_temp_clean_BGD.csv', 'historical_temp_clean_BGR.csv', 'historical_temp_clean_BHS.csv', 'historical_temp_clean_BIH.csv', 'historical_temp_clean_BLR.csv', 'historical_temp_clean_BLZ.csv', 'historical_temp_clean_BOL.csv', 'historical_temp_clean_BRA.csv', 'historical_temp_clean_BRB.csv', 'historical_temp_clean_BTN.csv', 'historical_temp_clean_BWA.csv', 'historical_temp_clean_CAF.csv', 'historical_temp_clean_CAN.csv', 'historical_temp_clean_CHE.csv', 'historical_temp_clean_CHL.csv', 'historical_temp_clean_CHN.csv', 'historical_temp_clean_CIV.csv', 'historical_temp_clean_CMR.csv', 'historical_temp_clean_COD.csv', 'historical_temp_clean_COG.csv', 'historical_temp_clean_COL.csv', 'historical_temp_clean_COM.csv', 'historical_temp_clean_CPV.csv', 'historical_temp_clean_CRI.csv', 'historical_temp_clean_CUB.csv', 'historical_temp_clean_CZE.csv', 'historical_temp_clean_DEU.csv', 'historical_temp_clean_DJI.csv', 'historical_temp_clean_DOM.csv', 'historical_temp_clean_DZA.csv', 'historical_temp_clean_ECU.csv', 'historical_temp_clean_EGY.csv', 'historical_temp_clean_ERI.csv', 'historical_temp_clean_ESP.csv', 'historical_temp_clean_ETH.csv', 'historical_temp_clean_FIN.csv', 'historical_temp_clean_FJI.csv', 'historical_temp_clean_FRA.csv', 'historical_temp_clean_FSM.csv', 'historical_temp_clean_GAB.csv', 'historical_temp_clean_GBR.csv', 'historical_temp_clean_GEO.csv', 'historical_temp_clean_GHA.csv', 'historical_temp_clean_GIN.csv', 'historical_temp_clean_GLP.csv', 'historical_temp_clean_GMB.csv', 'historical_temp_clean_GNB.csv', 'historical_temp_clean_GRC.csv', 'historical_temp_clean_GRD.csv', 'historical_temp_clean_GTM.csv', 'historical_temp_clean_GUF.csv', 'historical_temp_clean_GUY.csv', 'historical_temp_clean_HKG.csv', 'historical_temp_clean_HND.csv', 'historical_temp_clean_HRV.csv', 'historical_temp_clean_HTI.csv', 'historical_temp_clean_HUN.csv', 'historical_temp_clean_IDN.csv', 'historical_temp_clean_IND.csv', 'historical_temp_clean_IRL.csv', 'historical_temp_clean_IRN.csv', 'historical_temp_clean_IRQ.csv', 'historical_temp_clean_ISL.csv', 'historical_temp_clean_ISR.csv', 'historical_temp_clean_ITA.csv', 'historical_temp_clean_JAM.csv', 'historical_temp_clean_JOR.csv', 'historical_temp_clean_JPN.csv', 'historical_temp_clean_KAZ.csv', 'historical_temp_clean_KEN.csv', 'historical_temp_clean_KGZ.csv', 'historical_temp_clean_KHM.csv', 'historical_temp_clean_KIR.csv', 'historical_temp_clean_KNA.csv', 'historical_temp_clean_KOR.csv', 'historical_temp_clean_KWT.csv', 'historical_temp_clean_LAO.csv', 'historical_temp_clean_LBN.csv', 'historical_temp_clean_LBR.csv', 'historical_temp_clean_LBY.csv', 'historical_temp_clean_LCA.csv', 'historical_temp_clean_LKA.csv', 'historical_temp_clean_LSO.csv', 'historical_temp_clean_LTU.csv', 'historical_temp_clean_LUX.csv', 'historical_temp_clean_MAR.csv', 'historical_temp_clean_MDA.csv', 'historical_temp_clean_MDG.csv', 'historical_temp_clean_MDV.csv', 'historical_temp_clean_MEX.csv', 'historical_temp_clean_MHL.csv', 'historical_temp_clean_MKD.csv', 'historical_temp_clean_MLI.csv', 'historical_temp_clean_MMR.csv', 'historical_temp_clean_MNE.csv', 'historical_temp_clean_MNG.csv', 'historical_temp_clean_MOZ.csv', 'historical_temp_clean_MRT.csv', 'historical_temp_clean_MUS.csv', 'historical_temp_clean_MWI.csv', 'historical_temp_clean_MYS.csv', 'historical_temp_clean_NAM.csv', 'historical_temp_clean_NER.csv', 'historical_temp_clean_NGA.csv', 'historical_temp_clean_NIC.csv', 'historical_temp_clean_NLD.csv', 'historical_temp_clean_NOR.csv', 'historical_temp_clean_NPL.csv', 'historical_temp_clean_NZL.csv', 'historical_temp_clean_OMN.csv', 'historical_temp_clean_PAK.csv', 'historical_temp_clean_PAN.csv', 'historical_temp_clean_PER.csv', 'historical_temp_clean_PHL.csv', 'historical_temp_clean_PNG.csv', 'historical_temp_clean_POL.csv', 'historical_temp_clean_PRI.csv', 'historical_temp_clean_PRK.csv', 'historical_temp_clean_PRT.csv', 'historical_temp_clean_PRY.csv', 'historical_temp_clean_PSE.csv', 'historical_temp_clean_PYF.csv', 'historical_temp_clean_QAT.csv', 'historical_temp_clean_ROU.csv', 'historical_temp_clean_RUS.csv', 'historical_temp_clean_RWA.csv', 'historical_temp_clean_SAU.csv', 'historical_temp_clean_SDN.csv', 'historical_temp_clean_SEN.csv', 'historical_temp_clean_SLB.csv', 'historical_temp_clean_SLE.csv', 'historical_temp_clean_SLV.csv', 'historical_temp_clean_SOM.csv', 'historical_temp_clean_SRB.csv', 'historical_temp_clean_SSD.csv', 'historical_temp_clean_SUR.csv', 'historical_temp_clean_SVK.csv', 'historical_temp_clean_SVN.csv', 'historical_temp_clean_SWE.csv', 'historical_temp_clean_SWZ.csv', 'historical_temp_clean_SYC.csv', 'historical_temp_clean_SYR.csv', 'historical_temp_clean_TCD.csv', 'historical_temp_clean_TGO.csv', 'historical_temp_clean_THA.csv', 'historical_temp_clean_TJK.csv', 'historical_temp_clean_TKM.csv', 'historical_temp_clean_TLS.csv', 'historical_temp_clean_TTO.csv', 'historical_temp_clean_TUN.csv', 'historical_temp_clean_TUR.csv', 'historical_temp_clean_TWN.csv', 'historical_temp_clean_TZA.csv', 'historical_temp_clean_UGA.csv', 'historical_temp_clean_UKR.csv', 'historical_temp_clean_URY.csv', 'historical_temp_clean_USA.csv', 'historical_temp_clean_UZB.csv', 'historical_temp_clean_VCT.csv', 'historical_temp_clean_VEN.csv', 'historical_temp_clean_VNM.csv', 'historical_temp_clean_VUT.csv', 'historical_temp_clean_WSM.csv', 'historical_temp_clean_YEM.csv', 'historical_temp_clean_ZAF.csv', 'historical_temp_clean_ZMB.csv', 'historical_temp_clean_ZWE.csv']\n"
     ]
    }
   ],
   "source": [
    "arr = os.listdir(DATASET_FOLDER)\n",
    "print(arr)"
   ]
  },
  {
   "cell_type": "code",
   "execution_count": 4,
   "metadata": {},
   "outputs": [
    {
     "data": {
      "text/plain": [
       "182"
      ]
     },
     "execution_count": 4,
     "metadata": {},
     "output_type": "execute_result"
    }
   ],
   "source": [
    "len(arr)"
   ]
  },
  {
   "cell_type": "markdown",
   "metadata": {},
   "source": [
    "# Concatenate multiple csv files into a single pandas dataframe"
   ]
  },
  {
   "cell_type": "code",
   "execution_count": 5,
   "metadata": {},
   "outputs": [],
   "source": [
    "dir = Path(DATASET_FOLDER)"
   ]
  },
  {
   "cell_type": "code",
   "execution_count": 6,
   "metadata": {},
   "outputs": [
    {
     "name": "stderr",
     "output_type": "stream",
     "text": [
      "C:\\Users\\clotilde.pety\\AppData\\Local\\Continuum\\anaconda3\\lib\\site-packages\\ipykernel_launcher.py:2: FutureWarning: Sorting because non-concatenation axis is not aligned. A future version\n",
      "of pandas will change to not sort by default.\n",
      "\n",
      "To accept the future behavior, pass 'sort=False'.\n",
      "\n",
      "To retain the current behavior and silence the warning, pass 'sort=True'.\n",
      "\n",
      "  \n"
     ]
    }
   ],
   "source": [
    "df = (pd.read_csv(f) for f in dir.glob(\"*.csv\"))\n",
    "df = pd.concat(df)"
   ]
  },
  {
   "cell_type": "code",
   "execution_count": 14,
   "metadata": {},
   "outputs": [
    {
     "data": {
      "text/html": [
       "<div>\n",
       "<style scoped>\n",
       "    .dataframe tbody tr th:only-of-type {\n",
       "        vertical-align: middle;\n",
       "    }\n",
       "\n",
       "    .dataframe tbody tr th {\n",
       "        vertical-align: top;\n",
       "    }\n",
       "\n",
       "    .dataframe thead th {\n",
       "        text-align: right;\n",
       "    }\n",
       "</style>\n",
       "<table border=\"1\" class=\"dataframe\">\n",
       "  <thead>\n",
       "    <tr style=\"text-align: right;\">\n",
       "      <th></th>\n",
       "      <th>Country</th>\n",
       "      <th>ISO3</th>\n",
       "      <th>Month</th>\n",
       "      <th>Statistics</th>\n",
       "      <th>Temperature - (Celsius)</th>\n",
       "      <th>Year</th>\n",
       "    </tr>\n",
       "  </thead>\n",
       "  <tbody>\n",
       "    <tr>\n",
       "      <td>0</td>\n",
       "      <td>Afghanistan</td>\n",
       "      <td>AFG</td>\n",
       "      <td>1</td>\n",
       "      <td>Average</td>\n",
       "      <td>-0.03780</td>\n",
       "      <td>1901</td>\n",
       "    </tr>\n",
       "    <tr>\n",
       "      <td>1</td>\n",
       "      <td>Afghanistan</td>\n",
       "      <td>AFG</td>\n",
       "      <td>2</td>\n",
       "      <td>Average</td>\n",
       "      <td>2.42348</td>\n",
       "      <td>1901</td>\n",
       "    </tr>\n",
       "    <tr>\n",
       "      <td>2</td>\n",
       "      <td>Afghanistan</td>\n",
       "      <td>AFG</td>\n",
       "      <td>3</td>\n",
       "      <td>Average</td>\n",
       "      <td>9.36230</td>\n",
       "      <td>1901</td>\n",
       "    </tr>\n",
       "    <tr>\n",
       "      <td>3</td>\n",
       "      <td>Afghanistan</td>\n",
       "      <td>AFG</td>\n",
       "      <td>4</td>\n",
       "      <td>Average</td>\n",
       "      <td>13.55640</td>\n",
       "      <td>1901</td>\n",
       "    </tr>\n",
       "    <tr>\n",
       "      <td>4</td>\n",
       "      <td>Afghanistan</td>\n",
       "      <td>AFG</td>\n",
       "      <td>5</td>\n",
       "      <td>Average</td>\n",
       "      <td>18.15090</td>\n",
       "      <td>1901</td>\n",
       "    </tr>\n",
       "  </tbody>\n",
       "</table>\n",
       "</div>"
      ],
      "text/plain": [
       "       Country ISO3  Month Statistics  Temperature - (Celsius)  Year\n",
       "0  Afghanistan  AFG      1    Average                 -0.03780  1901\n",
       "1  Afghanistan  AFG      2    Average                  2.42348  1901\n",
       "2  Afghanistan  AFG      3    Average                  9.36230  1901\n",
       "3  Afghanistan  AFG      4    Average                 13.55640  1901\n",
       "4  Afghanistan  AFG      5    Average                 18.15090  1901"
      ]
     },
     "execution_count": 14,
     "metadata": {},
     "output_type": "execute_result"
    }
   ],
   "source": [
    "df.head()"
   ]
  },
  {
   "cell_type": "markdown",
   "metadata": {},
   "source": [
    "# Quick sanity checks"
   ]
  },
  {
   "cell_type": "code",
   "execution_count": 7,
   "metadata": {},
   "outputs": [
    {
     "data": {
      "text/plain": [
       "Morocco         1392\n",
       "Switzerland     1392\n",
       "Puerto Rico     1392\n",
       "Qatar           1392\n",
       "Bangladesh      1392\n",
       "                ... \n",
       "Viet Nam        1392\n",
       "Madagascar      1392\n",
       "Togo            1392\n",
       "Burkina Faso    1392\n",
       "Japan           1392\n",
       "Name: Country, Length: 180, dtype: int64"
      ]
     },
     "execution_count": 7,
     "metadata": {},
     "output_type": "execute_result"
    }
   ],
   "source": [
    "df[\"Country\"].value_counts()"
   ]
  },
  {
   "cell_type": "code",
   "execution_count": 8,
   "metadata": {},
   "outputs": [
    {
     "data": {
      "text/plain": [
       "180"
      ]
     },
     "execution_count": 8,
     "metadata": {},
     "output_type": "execute_result"
    }
   ],
   "source": [
    "df[\"Country\"].nunique()"
   ]
  },
  {
   "cell_type": "code",
   "execution_count": 9,
   "metadata": {},
   "outputs": [
    {
     "data": {
      "text/plain": [
       "182"
      ]
     },
     "execution_count": 9,
     "metadata": {},
     "output_type": "execute_result"
    }
   ],
   "source": [
    "df[\"ISO3\"].nunique()"
   ]
  },
  {
   "cell_type": "code",
   "execution_count": 10,
   "metadata": {},
   "outputs": [
    {
     "data": {
      "text/plain": [
       "Country                    2784\n",
       "ISO3                          0\n",
       "Month                         0\n",
       "Statistics                    0\n",
       "Temperature - (Celsius)       0\n",
       "Year                          0\n",
       "dtype: int64"
      ]
     },
     "execution_count": 10,
     "metadata": {},
     "output_type": "execute_result"
    }
   ],
   "source": [
    "df.isnull().sum()"
   ]
  },
  {
   "cell_type": "code",
   "execution_count": 11,
   "metadata": {},
   "outputs": [
    {
     "data": {
      "text/plain": [
       "Country                     object\n",
       "ISO3                        object\n",
       "Month                        int64\n",
       "Statistics                  object\n",
       "Temperature - (Celsius)    float64\n",
       "Year                         int64\n",
       "dtype: object"
      ]
     },
     "execution_count": 11,
     "metadata": {},
     "output_type": "execute_result"
    }
   ],
   "source": [
    "df.dtypes"
   ]
  },
  {
   "cell_type": "code",
   "execution_count": 12,
   "metadata": {},
   "outputs": [
    {
     "data": {
      "text/plain": [
       "count    253344.000000\n",
       "mean         19.030588\n",
       "std           9.781432\n",
       "min         -31.163000\n",
       "25%          14.140975\n",
       "50%          22.929000\n",
       "75%          25.796925\n",
       "max          38.566900\n",
       "Name: Temperature - (Celsius), dtype: float64"
      ]
     },
     "execution_count": 12,
     "metadata": {},
     "output_type": "execute_result"
    }
   ],
   "source": [
    "df[\"Temperature - (Celsius)\"].describe()"
   ]
  },
  {
   "cell_type": "code",
   "execution_count": 13,
   "metadata": {},
   "outputs": [
    {
     "data": {
      "text/plain": [
       "count    253344.000000\n",
       "mean       1958.500000\n",
       "std          33.485137\n",
       "min        1901.000000\n",
       "25%        1929.750000\n",
       "50%        1958.500000\n",
       "75%        1987.250000\n",
       "max        2016.000000\n",
       "Name: Year, dtype: float64"
      ]
     },
     "execution_count": 13,
     "metadata": {},
     "output_type": "execute_result"
    }
   ],
   "source": [
    "df[\"Year\"].describe()"
   ]
  },
  {
   "cell_type": "markdown",
   "metadata": {},
   "source": [
    "# Write csv file in datasets > tempetes directory"
   ]
  },
  {
   "cell_type": "code",
   "execution_count": 19,
   "metadata": {},
   "outputs": [],
   "source": [
    "df.to_csv('../../datasets/tempetes/' + '/' + 'monthly_hist_temperatures.csv')"
   ]
  }
 ],
 "metadata": {
  "kernelspec": {
   "display_name": "Python 3",
   "language": "python",
   "name": "python3"
  },
  "language_info": {
   "codemirror_mode": {
    "name": "ipython",
    "version": 3
   },
   "file_extension": ".py",
   "mimetype": "text/x-python",
   "name": "python",
   "nbconvert_exporter": "python",
   "pygments_lexer": "ipython3",
   "version": "3.7.4"
  }
 },
 "nbformat": 4,
 "nbformat_minor": 2
}
